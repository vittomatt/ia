{
 "cells": [
  {
   "cell_type": "code",
   "execution_count": 1,
   "id": "ab671c33-1550-4c0b-bf05-822519178938",
   "metadata": {},
   "outputs": [],
   "source": [
    "from fastai.vision.all import *"
   ]
  },
  {
   "cell_type": "code",
   "execution_count": 2,
   "id": "2ea107ff-68c0-4c9a-a392-d9b041797b8e",
   "metadata": {},
   "outputs": [],
   "source": [
    "path = untar_data(URLs.MNIST_SAMPLE)"
   ]
  },
  {
   "cell_type": "markdown",
   "id": "22845fc7-e923-4e09-87d8-fc9645e9c594",
   "metadata": {},
   "source": [
    "## Play with path"
   ]
  },
  {
   "cell_type": "code",
   "execution_count": 3,
   "id": "563126fc-85ad-4dd7-804e-c9ae2fa82a09",
   "metadata": {},
   "outputs": [
    {
     "data": {
      "text/plain": [
       "(#3) [Path('/Users/victoriomatteucci/.fastai/data/mnist_sample/valid'),Path('/Users/victoriomatteucci/.fastai/data/mnist_sample/labels.csv'),Path('/Users/victoriomatteucci/.fastai/data/mnist_sample/train')]"
      ]
     },
     "execution_count": 3,
     "metadata": {},
     "output_type": "execute_result"
    }
   ],
   "source": [
    "path.ls()"
   ]
  },
  {
   "cell_type": "code",
   "execution_count": 4,
   "id": "ab60b7de-3bc6-492f-8bb7-d511c4f4c782",
   "metadata": {},
   "outputs": [
    {
     "data": {
      "text/plain": [
       "(#2) [Path('/Users/victoriomatteucci/.fastai/data/mnist_sample/train/7'),Path('/Users/victoriomatteucci/.fastai/data/mnist_sample/train/3')]"
      ]
     },
     "execution_count": 4,
     "metadata": {},
     "output_type": "execute_result"
    }
   ],
   "source": [
    "(path/'train').ls()"
   ]
  },
  {
   "cell_type": "code",
   "execution_count": 5,
   "id": "23a99610-5d78-481f-b749-63e2a3d46e62",
   "metadata": {},
   "outputs": [
    {
     "data": {
      "text/plain": [
       "(#6265) [Path('/Users/victoriomatteucci/.fastai/data/mnist_sample/train/7/10002.png'),Path('/Users/victoriomatteucci/.fastai/data/mnist_sample/train/7/1001.png'),Path('/Users/victoriomatteucci/.fastai/data/mnist_sample/train/7/10014.png'),Path('/Users/victoriomatteucci/.fastai/data/mnist_sample/train/7/10019.png'),Path('/Users/victoriomatteucci/.fastai/data/mnist_sample/train/7/10039.png'),Path('/Users/victoriomatteucci/.fastai/data/mnist_sample/train/7/10046.png'),Path('/Users/victoriomatteucci/.fastai/data/mnist_sample/train/7/10050.png'),Path('/Users/victoriomatteucci/.fastai/data/mnist_sample/train/7/10063.png'),Path('/Users/victoriomatteucci/.fastai/data/mnist_sample/train/7/10077.png'),Path('/Users/victoriomatteucci/.fastai/data/mnist_sample/train/7/10086.png')...]"
      ]
     },
     "execution_count": 5,
     "metadata": {},
     "output_type": "execute_result"
    }
   ],
   "source": [
    "threes_path = (path/'train'/'3').ls().sorted()\n",
    "threes_path\n",
    "\n",
    "sevens_path = (path/'train'/'7').ls().sorted()\n",
    "sevens_path"
   ]
  },
  {
   "cell_type": "markdown",
   "id": "68f2ac2b-16ad-4cf5-9ce0-fa57debe9860",
   "metadata": {},
   "source": [
    "## Show the image"
   ]
  },
  {
   "cell_type": "code",
   "execution_count": 6,
   "id": "2b2ce2ae-d8b0-4e4e-8bb3-32c5fc73d8ac",
   "metadata": {},
   "outputs": [
    {
     "data": {
      "image/jpeg": "[encoded data removed]",
      "image/png": "[encoded data removed]",
      "text/plain": [
       "<PIL.PngImagePlugin.PngImageFile image mode=L size=28x28>"
      ]
     },
     "execution_count": 6,
     "metadata": {},
     "output_type": "execute_result"
    }
   ],
   "source": [
    "threes_path[0]\n",
    "three_path = threes_path[0]\n",
    "three_img = Image.open(three_path)\n",
    "three_img"
   ]
  },
  {
   "cell_type": "markdown",
   "id": "5708580d-8fb2-48a3-92fe-81d1ae714d1c",
   "metadata": {},
   "source": [
    "## Play with arrays and tensors"
   ]
  },
  {
   "cell_type": "code",
   "execution_count": 7,
   "id": "4c791552-871d-4332-a92f-77e164155a24",
   "metadata": {},
   "outputs": [
    {
     "data": {
      "text/plain": [
       "array([[  0,   0,   0,   0,   0, 103, 242, 254, 254, 254],\n",
       "       [  0,   0,   0,   0,   0,  18, 232, 254, 254, 254],\n",
       "       [  0,   0,   0,   0,   0,   0, 104, 244, 254, 224],\n",
       "       [  0,   0,   0,   0,   0,   0,   0, 207, 254, 210],\n",
       "       [  0,   0,   0,   0,   0,   0,   0,  84, 206, 254],\n",
       "       [  0,   0,   0,   0,   0,   0,   0,   0,  24, 209],\n",
       "       [  0,   0,   0,   0,   0,   0,   0,  91, 137, 253],\n",
       "       [  0,   0,   0,   0,   0,  40, 214, 250, 254, 254],\n",
       "       [  0,   0,   0,   0,   0,  81, 247, 254, 254, 254],\n",
       "       [  0,   0,   0,   0,   0,   0, 110, 246, 254, 254]], dtype=uint8)"
      ]
     },
     "execution_count": 7,
     "metadata": {},
     "output_type": "execute_result"
    }
   ],
   "source": [
    "array(three_img)[5:15, 5:15]"
   ]
  },
  {
   "cell_type": "code",
   "execution_count": 8,
   "id": "9166990c-d936-41b1-bd09-d19769d8c8a1",
   "metadata": {},
   "outputs": [
    {
     "data": {
      "text/plain": [
       "tensor([[  0,   0,   0,   0,   0, 103, 242, 254, 254, 254],\n",
       "        [  0,   0,   0,   0,   0,  18, 232, 254, 254, 254],\n",
       "        [  0,   0,   0,   0,   0,   0, 104, 244, 254, 224],\n",
       "        [  0,   0,   0,   0,   0,   0,   0, 207, 254, 210],\n",
       "        [  0,   0,   0,   0,   0,   0,   0,  84, 206, 254],\n",
       "        [  0,   0,   0,   0,   0,   0,   0,   0,  24, 209],\n",
       "        [  0,   0,   0,   0,   0,   0,   0,  91, 137, 253],\n",
       "        [  0,   0,   0,   0,   0,  40, 214, 250, 254, 254],\n",
       "        [  0,   0,   0,   0,   0,  81, 247, 254, 254, 254],\n",
       "        [  0,   0,   0,   0,   0,   0, 110, 246, 254, 254]], dtype=torch.uint8)"
      ]
     },
     "execution_count": 8,
     "metadata": {},
     "output_type": "execute_result"
    }
   ],
   "source": [
    "three_tensor = tensor(three_img)\n",
    "three_tensor[5:15, 5:15]"
   ]
  },
  {
   "cell_type": "markdown",
   "id": "a5b04e98-9cba-46d6-acb0-399e00cf07a5",
   "metadata": {},
   "source": [
    "## Use pandas to open the image and show it with pixels"
   ]
  },
  {
   "cell_type": "code",
   "execution_count": 9,
   "id": "5e7421a6-ccc9-4b61-9841-ec003fbcb789",
   "metadata": {},
   "outputs": [],
   "source": [
    "import pandas as pd"
   ]
  },
  {
   "cell_type": "code",
   "execution_count": 10,
   "id": "af23f3e3-d6c4-44d3-a5a3-29e490a72f66",
   "metadata": {},
   "outputs": [
    {
     "data": {
      "text/html": [
       "<div>\n",
       "<style scoped>\n",
       "    .dataframe tbody tr th:only-of-type {\n",
       "        vertical-align: middle;\n",
       "    }\n",
       "\n",
       "    .dataframe tbody tr th {\n",
       "        vertical-align: top;\n",
       "    }\n",
       "\n",
       "    .dataframe thead th {\n",
       "        text-align: right;\n",
       "    }\n",
       "</style>\n",
       "<table border=\"1\" class=\"dataframe\">\n",
       "  <thead>\n",
       "    <tr style=\"text-align: right;\">\n",
       "      <th></th>\n",
       "      <th>0</th>\n",
       "      <th>1</th>\n",
       "      <th>2</th>\n",
       "      <th>3</th>\n",
       "      <th>4</th>\n",
       "      <th>5</th>\n",
       "      <th>6</th>\n",
       "      <th>7</th>\n",
       "      <th>8</th>\n",
       "      <th>9</th>\n",
       "      <th>10</th>\n",
       "      <th>11</th>\n",
       "      <th>12</th>\n",
       "      <th>13</th>\n",
       "      <th>14</th>\n",
       "    </tr>\n",
       "  </thead>\n",
       "  <tbody>\n",
       "    <tr>\n",
       "      <th>0</th>\n",
       "      <td>0</td>\n",
       "      <td>0</td>\n",
       "      <td>0</td>\n",
       "      <td>0</td>\n",
       "      <td>0</td>\n",
       "      <td>103</td>\n",
       "      <td>242</td>\n",
       "      <td>254</td>\n",
       "      <td>254</td>\n",
       "      <td>254</td>\n",
       "      <td>254</td>\n",
       "      <td>254</td>\n",
       "      <td>66</td>\n",
       "      <td>0</td>\n",
       "      <td>0</td>\n",
       "    </tr>\n",
       "    <tr>\n",
       "      <th>1</th>\n",
       "      <td>0</td>\n",
       "      <td>0</td>\n",
       "      <td>0</td>\n",
       "      <td>0</td>\n",
       "      <td>0</td>\n",
       "      <td>18</td>\n",
       "      <td>232</td>\n",
       "      <td>254</td>\n",
       "      <td>254</td>\n",
       "      <td>254</td>\n",
       "      <td>254</td>\n",
       "      <td>254</td>\n",
       "      <td>238</td>\n",
       "      <td>70</td>\n",
       "      <td>0</td>\n",
       "    </tr>\n",
       "    <tr>\n",
       "      <th>2</th>\n",
       "      <td>0</td>\n",
       "      <td>0</td>\n",
       "      <td>0</td>\n",
       "      <td>0</td>\n",
       "      <td>0</td>\n",
       "      <td>0</td>\n",
       "      <td>104</td>\n",
       "      <td>244</td>\n",
       "      <td>254</td>\n",
       "      <td>224</td>\n",
       "      <td>254</td>\n",
       "      <td>254</td>\n",
       "      <td>254</td>\n",
       "      <td>141</td>\n",
       "      <td>0</td>\n",
       "    </tr>\n",
       "    <tr>\n",
       "      <th>3</th>\n",
       "      <td>0</td>\n",
       "      <td>0</td>\n",
       "      <td>0</td>\n",
       "      <td>0</td>\n",
       "      <td>0</td>\n",
       "      <td>0</td>\n",
       "      <td>0</td>\n",
       "      <td>207</td>\n",
       "      <td>254</td>\n",
       "      <td>210</td>\n",
       "      <td>254</td>\n",
       "      <td>254</td>\n",
       "      <td>254</td>\n",
       "      <td>34</td>\n",
       "      <td>0</td>\n",
       "    </tr>\n",
       "    <tr>\n",
       "      <th>4</th>\n",
       "      <td>0</td>\n",
       "      <td>0</td>\n",
       "      <td>0</td>\n",
       "      <td>0</td>\n",
       "      <td>0</td>\n",
       "      <td>0</td>\n",
       "      <td>0</td>\n",
       "      <td>84</td>\n",
       "      <td>206</td>\n",
       "      <td>254</td>\n",
       "      <td>254</td>\n",
       "      <td>254</td>\n",
       "      <td>254</td>\n",
       "      <td>41</td>\n",
       "      <td>0</td>\n",
       "    </tr>\n",
       "    <tr>\n",
       "      <th>5</th>\n",
       "      <td>0</td>\n",
       "      <td>0</td>\n",
       "      <td>0</td>\n",
       "      <td>0</td>\n",
       "      <td>0</td>\n",
       "      <td>0</td>\n",
       "      <td>0</td>\n",
       "      <td>0</td>\n",
       "      <td>24</td>\n",
       "      <td>209</td>\n",
       "      <td>254</td>\n",
       "      <td>254</td>\n",
       "      <td>254</td>\n",
       "      <td>171</td>\n",
       "      <td>0</td>\n",
       "    </tr>\n",
       "    <tr>\n",
       "      <th>6</th>\n",
       "      <td>0</td>\n",
       "      <td>0</td>\n",
       "      <td>0</td>\n",
       "      <td>0</td>\n",
       "      <td>0</td>\n",
       "      <td>0</td>\n",
       "      <td>0</td>\n",
       "      <td>91</td>\n",
       "      <td>137</td>\n",
       "      <td>253</td>\n",
       "      <td>254</td>\n",
       "      <td>254</td>\n",
       "      <td>254</td>\n",
       "      <td>112</td>\n",
       "      <td>0</td>\n",
       "    </tr>\n",
       "    <tr>\n",
       "      <th>7</th>\n",
       "      <td>0</td>\n",
       "      <td>0</td>\n",
       "      <td>0</td>\n",
       "      <td>0</td>\n",
       "      <td>0</td>\n",
       "      <td>40</td>\n",
       "      <td>214</td>\n",
       "      <td>250</td>\n",
       "      <td>254</td>\n",
       "      <td>254</td>\n",
       "      <td>254</td>\n",
       "      <td>254</td>\n",
       "      <td>254</td>\n",
       "      <td>34</td>\n",
       "      <td>0</td>\n",
       "    </tr>\n",
       "    <tr>\n",
       "      <th>8</th>\n",
       "      <td>0</td>\n",
       "      <td>0</td>\n",
       "      <td>0</td>\n",
       "      <td>0</td>\n",
       "      <td>0</td>\n",
       "      <td>81</td>\n",
       "      <td>247</td>\n",
       "      <td>254</td>\n",
       "      <td>254</td>\n",
       "      <td>254</td>\n",
       "      <td>254</td>\n",
       "      <td>254</td>\n",
       "      <td>254</td>\n",
       "      <td>146</td>\n",
       "      <td>0</td>\n",
       "    </tr>\n",
       "    <tr>\n",
       "      <th>9</th>\n",
       "      <td>0</td>\n",
       "      <td>0</td>\n",
       "      <td>0</td>\n",
       "      <td>0</td>\n",
       "      <td>0</td>\n",
       "      <td>0</td>\n",
       "      <td>110</td>\n",
       "      <td>246</td>\n",
       "      <td>254</td>\n",
       "      <td>254</td>\n",
       "      <td>254</td>\n",
       "      <td>254</td>\n",
       "      <td>254</td>\n",
       "      <td>171</td>\n",
       "      <td>0</td>\n",
       "    </tr>\n",
       "    <tr>\n",
       "      <th>10</th>\n",
       "      <td>0</td>\n",
       "      <td>0</td>\n",
       "      <td>0</td>\n",
       "      <td>0</td>\n",
       "      <td>0</td>\n",
       "      <td>0</td>\n",
       "      <td>0</td>\n",
       "      <td>73</td>\n",
       "      <td>89</td>\n",
       "      <td>89</td>\n",
       "      <td>93</td>\n",
       "      <td>240</td>\n",
       "      <td>254</td>\n",
       "      <td>171</td>\n",
       "      <td>0</td>\n",
       "    </tr>\n",
       "    <tr>\n",
       "      <th>11</th>\n",
       "      <td>0</td>\n",
       "      <td>0</td>\n",
       "      <td>0</td>\n",
       "      <td>0</td>\n",
       "      <td>0</td>\n",
       "      <td>0</td>\n",
       "      <td>0</td>\n",
       "      <td>0</td>\n",
       "      <td>0</td>\n",
       "      <td>0</td>\n",
       "      <td>1</td>\n",
       "      <td>128</td>\n",
       "      <td>254</td>\n",
       "      <td>219</td>\n",
       "      <td>31</td>\n",
       "    </tr>\n",
       "    <tr>\n",
       "      <th>12</th>\n",
       "      <td>0</td>\n",
       "      <td>0</td>\n",
       "      <td>0</td>\n",
       "      <td>0</td>\n",
       "      <td>0</td>\n",
       "      <td>0</td>\n",
       "      <td>0</td>\n",
       "      <td>0</td>\n",
       "      <td>0</td>\n",
       "      <td>0</td>\n",
       "      <td>7</td>\n",
       "      <td>254</td>\n",
       "      <td>254</td>\n",
       "      <td>214</td>\n",
       "      <td>28</td>\n",
       "    </tr>\n",
       "    <tr>\n",
       "      <th>13</th>\n",
       "      <td>0</td>\n",
       "      <td>0</td>\n",
       "      <td>0</td>\n",
       "      <td>0</td>\n",
       "      <td>0</td>\n",
       "      <td>0</td>\n",
       "      <td>0</td>\n",
       "      <td>0</td>\n",
       "      <td>0</td>\n",
       "      <td>0</td>\n",
       "      <td>138</td>\n",
       "      <td>254</td>\n",
       "      <td>254</td>\n",
       "      <td>116</td>\n",
       "      <td>0</td>\n",
       "    </tr>\n",
       "    <tr>\n",
       "      <th>14</th>\n",
       "      <td>0</td>\n",
       "      <td>19</td>\n",
       "      <td>177</td>\n",
       "      <td>90</td>\n",
       "      <td>0</td>\n",
       "      <td>0</td>\n",
       "      <td>0</td>\n",
       "      <td>0</td>\n",
       "      <td>0</td>\n",
       "      <td>25</td>\n",
       "      <td>240</td>\n",
       "      <td>254</td>\n",
       "      <td>254</td>\n",
       "      <td>34</td>\n",
       "      <td>0</td>\n",
       "    </tr>\n",
       "  </tbody>\n",
       "</table>\n",
       "</div>"
      ],
      "text/plain": [
       "    0   1    2   3   4    5    6    7    8    9    10   11   12   13  14\n",
       "0    0   0    0   0   0  103  242  254  254  254  254  254   66    0   0\n",
       "1    0   0    0   0   0   18  232  254  254  254  254  254  238   70   0\n",
       "2    0   0    0   0   0    0  104  244  254  224  254  254  254  141   0\n",
       "3    0   0    0   0   0    0    0  207  254  210  254  254  254   34   0\n",
       "4    0   0    0   0   0    0    0   84  206  254  254  254  254   41   0\n",
       "5    0   0    0   0   0    0    0    0   24  209  254  254  254  171   0\n",
       "6    0   0    0   0   0    0    0   91  137  253  254  254  254  112   0\n",
       "7    0   0    0   0   0   40  214  250  254  254  254  254  254   34   0\n",
       "8    0   0    0   0   0   81  247  254  254  254  254  254  254  146   0\n",
       "9    0   0    0   0   0    0  110  246  254  254  254  254  254  171   0\n",
       "10   0   0    0   0   0    0    0   73   89   89   93  240  254  171   0\n",
       "11   0   0    0   0   0    0    0    0    0    0    1  128  254  219  31\n",
       "12   0   0    0   0   0    0    0    0    0    0    7  254  254  214  28\n",
       "13   0   0    0   0   0    0    0    0    0    0  138  254  254  116   0\n",
       "14   0  19  177  90   0    0    0    0    0   25  240  254  254   34   0"
      ]
     },
     "execution_count": 10,
     "metadata": {},
     "output_type": "execute_result"
    }
   ],
   "source": [
    "df = pd.DataFrame(three_tensor[5:20, 5:20])\n",
    "df"
   ]
  },
  {
   "cell_type": "code",
   "execution_count": 11,
   "id": "ee92c626-c1a8-4a52-95a0-e4a8030b8f52",
   "metadata": {},
   "outputs": [
    {
     "data": {
      "text/html": [
       "<style type=\"text/css\">\n",
       "#T_17920_row0_col0, #T_17920_row0_col1, #T_17920_row0_col2, #T_17920_row0_col3, #T_17920_row0_col4, #T_17920_row0_col12, #T_17920_row0_col13, #T_17920_row0_col14, #T_17920_row1_col0, #T_17920_row1_col1, #T_17920_row1_col2, #T_17920_row1_col3, #T_17920_row1_col4, #T_17920_row1_col14, #T_17920_row2_col0, #T_17920_row2_col1, #T_17920_row2_col2, #T_17920_row2_col3, #T_17920_row2_col4, #T_17920_row2_col5, #T_17920_row2_col14, #T_17920_row3_col0, #T_17920_row3_col1, #T_17920_row3_col2, #T_17920_row3_col3, #T_17920_row3_col4, #T_17920_row3_col5, #T_17920_row3_col6, #T_17920_row3_col14, #T_17920_row4_col0, #T_17920_row4_col1, #T_17920_row4_col2, #T_17920_row4_col3, #T_17920_row4_col4, #T_17920_row4_col5, #T_17920_row4_col6, #T_17920_row4_col14, #T_17920_row5_col0, #T_17920_row5_col1, #T_17920_row5_col2, #T_17920_row5_col3, #T_17920_row5_col4, #T_17920_row5_col5, #T_17920_row5_col6, #T_17920_row5_col7, #T_17920_row5_col14, #T_17920_row6_col0, #T_17920_row6_col1, #T_17920_row6_col2, #T_17920_row6_col3, #T_17920_row6_col4, #T_17920_row6_col5, #T_17920_row6_col6, #T_17920_row6_col14, #T_17920_row7_col0, #T_17920_row7_col1, #T_17920_row7_col2, #T_17920_row7_col3, #T_17920_row7_col4, #T_17920_row7_col14, #T_17920_row8_col0, #T_17920_row8_col1, #T_17920_row8_col2, #T_17920_row8_col3, #T_17920_row8_col4, #T_17920_row8_col14, #T_17920_row9_col0, #T_17920_row9_col1, #T_17920_row9_col2, #T_17920_row9_col3, #T_17920_row9_col4, #T_17920_row9_col5, #T_17920_row9_col14, #T_17920_row10_col0, #T_17920_row10_col1, #T_17920_row10_col2, #T_17920_row10_col3, #T_17920_row10_col4, #T_17920_row10_col5, #T_17920_row10_col6, #T_17920_row10_col14, #T_17920_row11_col0, #T_17920_row11_col1, #T_17920_row11_col2, #T_17920_row11_col3, #T_17920_row11_col4, #T_17920_row11_col5, #T_17920_row11_col6, #T_17920_row11_col7, #T_17920_row11_col8, #T_17920_row11_col9, #T_17920_row11_col10, #T_17920_row11_col11, #T_17920_row12_col0, #T_17920_row12_col1, #T_17920_row12_col2, #T_17920_row12_col3, #T_17920_row12_col4, #T_17920_row12_col5, #T_17920_row12_col6, #T_17920_row12_col7, #T_17920_row12_col8, #T_17920_row12_col9, #T_17920_row13_col0, #T_17920_row13_col1, #T_17920_row13_col2, #T_17920_row13_col3, #T_17920_row13_col4, #T_17920_row13_col5, #T_17920_row13_col6, #T_17920_row13_col7, #T_17920_row13_col8, #T_17920_row13_col9, #T_17920_row13_col14, #T_17920_row14_col0, #T_17920_row14_col4, #T_17920_row14_col5, #T_17920_row14_col6, #T_17920_row14_col7, #T_17920_row14_col8, #T_17920_row14_col14 {\n",
       "  font-size: 6pt;\n",
       "  background-color: #ffffff;\n",
       "  color: #000000;\n",
       "}\n",
       "#T_17920_row0_col5, #T_17920_row0_col7, #T_17920_row0_col8, #T_17920_row0_col9, #T_17920_row0_col10, #T_17920_row0_col11, #T_17920_row1_col7, #T_17920_row1_col8, #T_17920_row1_col9, #T_17920_row1_col10, #T_17920_row1_col11, #T_17920_row2_col8, #T_17920_row2_col10, #T_17920_row2_col11, #T_17920_row2_col12, #T_17920_row3_col8, #T_17920_row3_col10, #T_17920_row3_col11, #T_17920_row3_col12, #T_17920_row4_col9, #T_17920_row4_col10, #T_17920_row4_col11, #T_17920_row4_col12, #T_17920_row5_col10, #T_17920_row5_col11, #T_17920_row5_col12, #T_17920_row6_col10, #T_17920_row6_col11, #T_17920_row6_col12, #T_17920_row7_col8, #T_17920_row7_col9, #T_17920_row7_col10, #T_17920_row7_col11, #T_17920_row7_col12, #T_17920_row8_col6, #T_17920_row8_col7, #T_17920_row8_col8, #T_17920_row8_col9, #T_17920_row8_col10, #T_17920_row8_col11, #T_17920_row8_col12, #T_17920_row9_col8, #T_17920_row9_col9, #T_17920_row9_col10, #T_17920_row9_col11, #T_17920_row9_col12, #T_17920_row10_col12, #T_17920_row11_col12, #T_17920_row11_col13, #T_17920_row11_col14, #T_17920_row12_col11, #T_17920_row12_col12, #T_17920_row13_col11, #T_17920_row13_col12, #T_17920_row14_col1, #T_17920_row14_col2, #T_17920_row14_col3, #T_17920_row14_col11, #T_17920_row14_col12 {\n",
       "  font-size: 6pt;\n",
       "  background-color: #000000;\n",
       "  color: #f1f1f1;\n",
       "}\n",
       "#T_17920_row0_col6, #T_17920_row12_col13 {\n",
       "  font-size: 6pt;\n",
       "  background-color: #060606;\n",
       "  color: #f1f1f1;\n",
       "}\n",
       "#T_17920_row1_col5 {\n",
       "  font-size: 6pt;\n",
       "  background-color: #e7e7e7;\n",
       "  color: #000000;\n",
       "}\n",
       "#T_17920_row1_col6 {\n",
       "  font-size: 6pt;\n",
       "  background-color: #111111;\n",
       "  color: #f1f1f1;\n",
       "}\n",
       "#T_17920_row1_col12 {\n",
       "  font-size: 6pt;\n",
       "  background-color: #181818;\n",
       "  color: #f1f1f1;\n",
       "}\n",
       "#T_17920_row1_col13 {\n",
       "  font-size: 6pt;\n",
       "  background-color: #cacaca;\n",
       "  color: #000000;\n",
       "}\n",
       "#T_17920_row2_col6 {\n",
       "  font-size: 6pt;\n",
       "  background-color: #afafaf;\n",
       "  color: #000000;\n",
       "}\n",
       "#T_17920_row2_col7 {\n",
       "  font-size: 6pt;\n",
       "  background-color: #0c0c0c;\n",
       "  color: #f1f1f1;\n",
       "}\n",
       "#T_17920_row2_col9 {\n",
       "  font-size: 6pt;\n",
       "  background-color: #232323;\n",
       "  color: #f1f1f1;\n",
       "}\n",
       "#T_17920_row2_col13 {\n",
       "  font-size: 6pt;\n",
       "  background-color: #6e6e6e;\n",
       "  color: #f1f1f1;\n",
       "}\n",
       "#T_17920_row3_col7 {\n",
       "  font-size: 6pt;\n",
       "  background-color: #3a3a3a;\n",
       "  color: #f1f1f1;\n",
       "}\n",
       "#T_17920_row3_col9 {\n",
       "  font-size: 6pt;\n",
       "  background-color: #363636;\n",
       "  color: #f1f1f1;\n",
       "}\n",
       "#T_17920_row3_col13, #T_17920_row7_col13, #T_17920_row14_col13 {\n",
       "  font-size: 6pt;\n",
       "  background-color: #ebebeb;\n",
       "  color: #000000;\n",
       "}\n",
       "#T_17920_row4_col7 {\n",
       "  font-size: 6pt;\n",
       "  background-color: #c7c7c7;\n",
       "  color: #000000;\n",
       "}\n",
       "#T_17920_row4_col8 {\n",
       "  font-size: 6pt;\n",
       "  background-color: #3c3c3c;\n",
       "  color: #f1f1f1;\n",
       "}\n",
       "#T_17920_row4_col13 {\n",
       "  font-size: 6pt;\n",
       "  background-color: #e5e5e5;\n",
       "  color: #000000;\n",
       "}\n",
       "#T_17920_row5_col8 {\n",
       "  font-size: 6pt;\n",
       "  background-color: #f4f4f4;\n",
       "  color: #000000;\n",
       "}\n",
       "#T_17920_row5_col9 {\n",
       "  font-size: 6pt;\n",
       "  background-color: #383838;\n",
       "  color: #f1f1f1;\n",
       "}\n",
       "#T_17920_row5_col13, #T_17920_row9_col13, #T_17920_row10_col13 {\n",
       "  font-size: 6pt;\n",
       "  background-color: #474747;\n",
       "  color: #f1f1f1;\n",
       "}\n",
       "#T_17920_row6_col7 {\n",
       "  font-size: 6pt;\n",
       "  background-color: #c1c1c1;\n",
       "  color: #000000;\n",
       "}\n",
       "#T_17920_row6_col8, #T_17920_row13_col10 {\n",
       "  font-size: 6pt;\n",
       "  background-color: #8a8a8a;\n",
       "  color: #f1f1f1;\n",
       "}\n",
       "#T_17920_row6_col9 {\n",
       "  font-size: 6pt;\n",
       "  background-color: #010101;\n",
       "  color: #f1f1f1;\n",
       "}\n",
       "#T_17920_row6_col13 {\n",
       "  font-size: 6pt;\n",
       "  background-color: #939393;\n",
       "  color: #f1f1f1;\n",
       "}\n",
       "#T_17920_row7_col5 {\n",
       "  font-size: 6pt;\n",
       "  background-color: #b9b9b9;\n",
       "  color: #000000;\n",
       "}\n",
       "#T_17920_row7_col6 {\n",
       "  font-size: 6pt;\n",
       "  background-color: #282828;\n",
       "  color: #f1f1f1;\n",
       "}\n",
       "#T_17920_row7_col7 {\n",
       "  font-size: 6pt;\n",
       "  background-color: #050505;\n",
       "  color: #f1f1f1;\n",
       "}\n",
       "#T_17920_row8_col5 {\n",
       "  font-size: 6pt;\n",
       "  background-color: #444444;\n",
       "  color: #f1f1f1;\n",
       "}\n",
       "#T_17920_row8_col13 {\n",
       "  font-size: 6pt;\n",
       "  background-color: #686868;\n",
       "  color: #f1f1f1;\n",
       "}\n",
       "#T_17920_row9_col6 {\n",
       "  font-size: 6pt;\n",
       "  background-color: #a7a7a7;\n",
       "  color: #f1f1f1;\n",
       "}\n",
       "#T_17920_row9_col7 {\n",
       "  font-size: 6pt;\n",
       "  background-color: #090909;\n",
       "  color: #f1f1f1;\n",
       "}\n",
       "#T_17920_row10_col7 {\n",
       "  font-size: 6pt;\n",
       "  background-color: #d1d1d1;\n",
       "  color: #000000;\n",
       "}\n",
       "#T_17920_row10_col8, #T_17920_row10_col9 {\n",
       "  font-size: 6pt;\n",
       "  background-color: #c3c3c3;\n",
       "  color: #000000;\n",
       "}\n",
       "#T_17920_row10_col10 {\n",
       "  font-size: 6pt;\n",
       "  background-color: #bfbfbf;\n",
       "  color: #000000;\n",
       "}\n",
       "#T_17920_row10_col11 {\n",
       "  font-size: 6pt;\n",
       "  background-color: #212121;\n",
       "  color: #f1f1f1;\n",
       "}\n",
       "#T_17920_row12_col10 {\n",
       "  font-size: 6pt;\n",
       "  background-color: #fcfcfc;\n",
       "  color: #000000;\n",
       "}\n",
       "#T_17920_row12_col14 {\n",
       "  font-size: 6pt;\n",
       "  background-color: #1c1c1c;\n",
       "  color: #f1f1f1;\n",
       "}\n",
       "#T_17920_row13_col13 {\n",
       "  font-size: 6pt;\n",
       "  background-color: #8e8e8e;\n",
       "  color: #f1f1f1;\n",
       "}\n",
       "#T_17920_row14_col9 {\n",
       "  font-size: 6pt;\n",
       "  background-color: #f3f3f3;\n",
       "  color: #000000;\n",
       "}\n",
       "#T_17920_row14_col10 {\n",
       "  font-size: 6pt;\n",
       "  background-color: #101010;\n",
       "  color: #f1f1f1;\n",
       "}\n",
       "</style>\n",
       "<table id=\"T_17920\">\n",
       "  <thead>\n",
       "    <tr>\n",
       "      <th class=\"blank level0\" >&nbsp;</th>\n",
       "      <th id=\"T_17920_level0_col0\" class=\"col_heading level0 col0\" >0</th>\n",
       "      <th id=\"T_17920_level0_col1\" class=\"col_heading level0 col1\" >1</th>\n",
       "      <th id=\"T_17920_level0_col2\" class=\"col_heading level0 col2\" >2</th>\n",
       "      <th id=\"T_17920_level0_col3\" class=\"col_heading level0 col3\" >3</th>\n",
       "      <th id=\"T_17920_level0_col4\" class=\"col_heading level0 col4\" >4</th>\n",
       "      <th id=\"T_17920_level0_col5\" class=\"col_heading level0 col5\" >5</th>\n",
       "      <th id=\"T_17920_level0_col6\" class=\"col_heading level0 col6\" >6</th>\n",
       "      <th id=\"T_17920_level0_col7\" class=\"col_heading level0 col7\" >7</th>\n",
       "      <th id=\"T_17920_level0_col8\" class=\"col_heading level0 col8\" >8</th>\n",
       "      <th id=\"T_17920_level0_col9\" class=\"col_heading level0 col9\" >9</th>\n",
       "      <th id=\"T_17920_level0_col10\" class=\"col_heading level0 col10\" >10</th>\n",
       "      <th id=\"T_17920_level0_col11\" class=\"col_heading level0 col11\" >11</th>\n",
       "      <th id=\"T_17920_level0_col12\" class=\"col_heading level0 col12\" >12</th>\n",
       "      <th id=\"T_17920_level0_col13\" class=\"col_heading level0 col13\" >13</th>\n",
       "      <th id=\"T_17920_level0_col14\" class=\"col_heading level0 col14\" >14</th>\n",
       "    </tr>\n",
       "  </thead>\n",
       "  <tbody>\n",
       "    <tr>\n",
       "      <th id=\"T_17920_level0_row0\" class=\"row_heading level0 row0\" >0</th>\n",
       "      <td id=\"T_17920_row0_col0\" class=\"data row0 col0\" >0</td>\n",
       "      <td id=\"T_17920_row0_col1\" class=\"data row0 col1\" >0</td>\n",
       "      <td id=\"T_17920_row0_col2\" class=\"data row0 col2\" >0</td>\n",
       "      <td id=\"T_17920_row0_col3\" class=\"data row0 col3\" >0</td>\n",
       "      <td id=\"T_17920_row0_col4\" class=\"data row0 col4\" >0</td>\n",
       "      <td id=\"T_17920_row0_col5\" class=\"data row0 col5\" >103</td>\n",
       "      <td id=\"T_17920_row0_col6\" class=\"data row0 col6\" >242</td>\n",
       "      <td id=\"T_17920_row0_col7\" class=\"data row0 col7\" >254</td>\n",
       "      <td id=\"T_17920_row0_col8\" class=\"data row0 col8\" >254</td>\n",
       "      <td id=\"T_17920_row0_col9\" class=\"data row0 col9\" >254</td>\n",
       "      <td id=\"T_17920_row0_col10\" class=\"data row0 col10\" >254</td>\n",
       "      <td id=\"T_17920_row0_col11\" class=\"data row0 col11\" >254</td>\n",
       "      <td id=\"T_17920_row0_col12\" class=\"data row0 col12\" >66</td>\n",
       "      <td id=\"T_17920_row0_col13\" class=\"data row0 col13\" >0</td>\n",
       "      <td id=\"T_17920_row0_col14\" class=\"data row0 col14\" >0</td>\n",
       "    </tr>\n",
       "    <tr>\n",
       "      <th id=\"T_17920_level0_row1\" class=\"row_heading level0 row1\" >1</th>\n",
       "      <td id=\"T_17920_row1_col0\" class=\"data row1 col0\" >0</td>\n",
       "      <td id=\"T_17920_row1_col1\" class=\"data row1 col1\" >0</td>\n",
       "      <td id=\"T_17920_row1_col2\" class=\"data row1 col2\" >0</td>\n",
       "      <td id=\"T_17920_row1_col3\" class=\"data row1 col3\" >0</td>\n",
       "      <td id=\"T_17920_row1_col4\" class=\"data row1 col4\" >0</td>\n",
       "      <td id=\"T_17920_row1_col5\" class=\"data row1 col5\" >18</td>\n",
       "      <td id=\"T_17920_row1_col6\" class=\"data row1 col6\" >232</td>\n",
       "      <td id=\"T_17920_row1_col7\" class=\"data row1 col7\" >254</td>\n",
       "      <td id=\"T_17920_row1_col8\" class=\"data row1 col8\" >254</td>\n",
       "      <td id=\"T_17920_row1_col9\" class=\"data row1 col9\" >254</td>\n",
       "      <td id=\"T_17920_row1_col10\" class=\"data row1 col10\" >254</td>\n",
       "      <td id=\"T_17920_row1_col11\" class=\"data row1 col11\" >254</td>\n",
       "      <td id=\"T_17920_row1_col12\" class=\"data row1 col12\" >238</td>\n",
       "      <td id=\"T_17920_row1_col13\" class=\"data row1 col13\" >70</td>\n",
       "      <td id=\"T_17920_row1_col14\" class=\"data row1 col14\" >0</td>\n",
       "    </tr>\n",
       "    <tr>\n",
       "      <th id=\"T_17920_level0_row2\" class=\"row_heading level0 row2\" >2</th>\n",
       "      <td id=\"T_17920_row2_col0\" class=\"data row2 col0\" >0</td>\n",
       "      <td id=\"T_17920_row2_col1\" class=\"data row2 col1\" >0</td>\n",
       "      <td id=\"T_17920_row2_col2\" class=\"data row2 col2\" >0</td>\n",
       "      <td id=\"T_17920_row2_col3\" class=\"data row2 col3\" >0</td>\n",
       "      <td id=\"T_17920_row2_col4\" class=\"data row2 col4\" >0</td>\n",
       "      <td id=\"T_17920_row2_col5\" class=\"data row2 col5\" >0</td>\n",
       "      <td id=\"T_17920_row2_col6\" class=\"data row2 col6\" >104</td>\n",
       "      <td id=\"T_17920_row2_col7\" class=\"data row2 col7\" >244</td>\n",
       "      <td id=\"T_17920_row2_col8\" class=\"data row2 col8\" >254</td>\n",
       "      <td id=\"T_17920_row2_col9\" class=\"data row2 col9\" >224</td>\n",
       "      <td id=\"T_17920_row2_col10\" class=\"data row2 col10\" >254</td>\n",
       "      <td id=\"T_17920_row2_col11\" class=\"data row2 col11\" >254</td>\n",
       "      <td id=\"T_17920_row2_col12\" class=\"data row2 col12\" >254</td>\n",
       "      <td id=\"T_17920_row2_col13\" class=\"data row2 col13\" >141</td>\n",
       "      <td id=\"T_17920_row2_col14\" class=\"data row2 col14\" >0</td>\n",
       "    </tr>\n",
       "    <tr>\n",
       "      <th id=\"T_17920_level0_row3\" class=\"row_heading level0 row3\" >3</th>\n",
       "      <td id=\"T_17920_row3_col0\" class=\"data row3 col0\" >0</td>\n",
       "      <td id=\"T_17920_row3_col1\" class=\"data row3 col1\" >0</td>\n",
       "      <td id=\"T_17920_row3_col2\" class=\"data row3 col2\" >0</td>\n",
       "      <td id=\"T_17920_row3_col3\" class=\"data row3 col3\" >0</td>\n",
       "      <td id=\"T_17920_row3_col4\" class=\"data row3 col4\" >0</td>\n",
       "      <td id=\"T_17920_row3_col5\" class=\"data row3 col5\" >0</td>\n",
       "      <td id=\"T_17920_row3_col6\" class=\"data row3 col6\" >0</td>\n",
       "      <td id=\"T_17920_row3_col7\" class=\"data row3 col7\" >207</td>\n",
       "      <td id=\"T_17920_row3_col8\" class=\"data row3 col8\" >254</td>\n",
       "      <td id=\"T_17920_row3_col9\" class=\"data row3 col9\" >210</td>\n",
       "      <td id=\"T_17920_row3_col10\" class=\"data row3 col10\" >254</td>\n",
       "      <td id=\"T_17920_row3_col11\" class=\"data row3 col11\" >254</td>\n",
       "      <td id=\"T_17920_row3_col12\" class=\"data row3 col12\" >254</td>\n",
       "      <td id=\"T_17920_row3_col13\" class=\"data row3 col13\" >34</td>\n",
       "      <td id=\"T_17920_row3_col14\" class=\"data row3 col14\" >0</td>\n",
       "    </tr>\n",
       "    <tr>\n",
       "      <th id=\"T_17920_level0_row4\" class=\"row_heading level0 row4\" >4</th>\n",
       "      <td id=\"T_17920_row4_col0\" class=\"data row4 col0\" >0</td>\n",
       "      <td id=\"T_17920_row4_col1\" class=\"data row4 col1\" >0</td>\n",
       "      <td id=\"T_17920_row4_col2\" class=\"data row4 col2\" >0</td>\n",
       "      <td id=\"T_17920_row4_col3\" class=\"data row4 col3\" >0</td>\n",
       "      <td id=\"T_17920_row4_col4\" class=\"data row4 col4\" >0</td>\n",
       "      <td id=\"T_17920_row4_col5\" class=\"data row4 col5\" >0</td>\n",
       "      <td id=\"T_17920_row4_col6\" class=\"data row4 col6\" >0</td>\n",
       "      <td id=\"T_17920_row4_col7\" class=\"data row4 col7\" >84</td>\n",
       "      <td id=\"T_17920_row4_col8\" class=\"data row4 col8\" >206</td>\n",
       "      <td id=\"T_17920_row4_col9\" class=\"data row4 col9\" >254</td>\n",
       "      <td id=\"T_17920_row4_col10\" class=\"data row4 col10\" >254</td>\n",
       "      <td id=\"T_17920_row4_col11\" class=\"data row4 col11\" >254</td>\n",
       "      <td id=\"T_17920_row4_col12\" class=\"data row4 col12\" >254</td>\n",
       "      <td id=\"T_17920_row4_col13\" class=\"data row4 col13\" >41</td>\n",
       "      <td id=\"T_17920_row4_col14\" class=\"data row4 col14\" >0</td>\n",
       "    </tr>\n",
       "    <tr>\n",
       "      <th id=\"T_17920_level0_row5\" class=\"row_heading level0 row5\" >5</th>\n",
       "      <td id=\"T_17920_row5_col0\" class=\"data row5 col0\" >0</td>\n",
       "      <td id=\"T_17920_row5_col1\" class=\"data row5 col1\" >0</td>\n",
       "      <td id=\"T_17920_row5_col2\" class=\"data row5 col2\" >0</td>\n",
       "      <td id=\"T_17920_row5_col3\" class=\"data row5 col3\" >0</td>\n",
       "      <td id=\"T_17920_row5_col4\" class=\"data row5 col4\" >0</td>\n",
       "      <td id=\"T_17920_row5_col5\" class=\"data row5 col5\" >0</td>\n",
       "      <td id=\"T_17920_row5_col6\" class=\"data row5 col6\" >0</td>\n",
       "      <td id=\"T_17920_row5_col7\" class=\"data row5 col7\" >0</td>\n",
       "      <td id=\"T_17920_row5_col8\" class=\"data row5 col8\" >24</td>\n",
       "      <td id=\"T_17920_row5_col9\" class=\"data row5 col9\" >209</td>\n",
       "      <td id=\"T_17920_row5_col10\" class=\"data row5 col10\" >254</td>\n",
       "      <td id=\"T_17920_row5_col11\" class=\"data row5 col11\" >254</td>\n",
       "      <td id=\"T_17920_row5_col12\" class=\"data row5 col12\" >254</td>\n",
       "      <td id=\"T_17920_row5_col13\" class=\"data row5 col13\" >171</td>\n",
       "      <td id=\"T_17920_row5_col14\" class=\"data row5 col14\" >0</td>\n",
       "    </tr>\n",
       "    <tr>\n",
       "      <th id=\"T_17920_level0_row6\" class=\"row_heading level0 row6\" >6</th>\n",
       "      <td id=\"T_17920_row6_col0\" class=\"data row6 col0\" >0</td>\n",
       "      <td id=\"T_17920_row6_col1\" class=\"data row6 col1\" >0</td>\n",
       "      <td id=\"T_17920_row6_col2\" class=\"data row6 col2\" >0</td>\n",
       "      <td id=\"T_17920_row6_col3\" class=\"data row6 col3\" >0</td>\n",
       "      <td id=\"T_17920_row6_col4\" class=\"data row6 col4\" >0</td>\n",
       "      <td id=\"T_17920_row6_col5\" class=\"data row6 col5\" >0</td>\n",
       "      <td id=\"T_17920_row6_col6\" class=\"data row6 col6\" >0</td>\n",
       "      <td id=\"T_17920_row6_col7\" class=\"data row6 col7\" >91</td>\n",
       "      <td id=\"T_17920_row6_col8\" class=\"data row6 col8\" >137</td>\n",
       "      <td id=\"T_17920_row6_col9\" class=\"data row6 col9\" >253</td>\n",
       "      <td id=\"T_17920_row6_col10\" class=\"data row6 col10\" >254</td>\n",
       "      <td id=\"T_17920_row6_col11\" class=\"data row6 col11\" >254</td>\n",
       "      <td id=\"T_17920_row6_col12\" class=\"data row6 col12\" >254</td>\n",
       "      <td id=\"T_17920_row6_col13\" class=\"data row6 col13\" >112</td>\n",
       "      <td id=\"T_17920_row6_col14\" class=\"data row6 col14\" >0</td>\n",
       "    </tr>\n",
       "    <tr>\n",
       "      <th id=\"T_17920_level0_row7\" class=\"row_heading level0 row7\" >7</th>\n",
       "      <td id=\"T_17920_row7_col0\" class=\"data row7 col0\" >0</td>\n",
       "      <td id=\"T_17920_row7_col1\" class=\"data row7 col1\" >0</td>\n",
       "      <td id=\"T_17920_row7_col2\" class=\"data row7 col2\" >0</td>\n",
       "      <td id=\"T_17920_row7_col3\" class=\"data row7 col3\" >0</td>\n",
       "      <td id=\"T_17920_row7_col4\" class=\"data row7 col4\" >0</td>\n",
       "      <td id=\"T_17920_row7_col5\" class=\"data row7 col5\" >40</td>\n",
       "      <td id=\"T_17920_row7_col6\" class=\"data row7 col6\" >214</td>\n",
       "      <td id=\"T_17920_row7_col7\" class=\"data row7 col7\" >250</td>\n",
       "      <td id=\"T_17920_row7_col8\" class=\"data row7 col8\" >254</td>\n",
       "      <td id=\"T_17920_row7_col9\" class=\"data row7 col9\" >254</td>\n",
       "      <td id=\"T_17920_row7_col10\" class=\"data row7 col10\" >254</td>\n",
       "      <td id=\"T_17920_row7_col11\" class=\"data row7 col11\" >254</td>\n",
       "      <td id=\"T_17920_row7_col12\" class=\"data row7 col12\" >254</td>\n",
       "      <td id=\"T_17920_row7_col13\" class=\"data row7 col13\" >34</td>\n",
       "      <td id=\"T_17920_row7_col14\" class=\"data row7 col14\" >0</td>\n",
       "    </tr>\n",
       "    <tr>\n",
       "      <th id=\"T_17920_level0_row8\" class=\"row_heading level0 row8\" >8</th>\n",
       "      <td id=\"T_17920_row8_col0\" class=\"data row8 col0\" >0</td>\n",
       "      <td id=\"T_17920_row8_col1\" class=\"data row8 col1\" >0</td>\n",
       "      <td id=\"T_17920_row8_col2\" class=\"data row8 col2\" >0</td>\n",
       "      <td id=\"T_17920_row8_col3\" class=\"data row8 col3\" >0</td>\n",
       "      <td id=\"T_17920_row8_col4\" class=\"data row8 col4\" >0</td>\n",
       "      <td id=\"T_17920_row8_col5\" class=\"data row8 col5\" >81</td>\n",
       "      <td id=\"T_17920_row8_col6\" class=\"data row8 col6\" >247</td>\n",
       "      <td id=\"T_17920_row8_col7\" class=\"data row8 col7\" >254</td>\n",
       "      <td id=\"T_17920_row8_col8\" class=\"data row8 col8\" >254</td>\n",
       "      <td id=\"T_17920_row8_col9\" class=\"data row8 col9\" >254</td>\n",
       "      <td id=\"T_17920_row8_col10\" class=\"data row8 col10\" >254</td>\n",
       "      <td id=\"T_17920_row8_col11\" class=\"data row8 col11\" >254</td>\n",
       "      <td id=\"T_17920_row8_col12\" class=\"data row8 col12\" >254</td>\n",
       "      <td id=\"T_17920_row8_col13\" class=\"data row8 col13\" >146</td>\n",
       "      <td id=\"T_17920_row8_col14\" class=\"data row8 col14\" >0</td>\n",
       "    </tr>\n",
       "    <tr>\n",
       "      <th id=\"T_17920_level0_row9\" class=\"row_heading level0 row9\" >9</th>\n",
       "      <td id=\"T_17920_row9_col0\" class=\"data row9 col0\" >0</td>\n",
       "      <td id=\"T_17920_row9_col1\" class=\"data row9 col1\" >0</td>\n",
       "      <td id=\"T_17920_row9_col2\" class=\"data row9 col2\" >0</td>\n",
       "      <td id=\"T_17920_row9_col3\" class=\"data row9 col3\" >0</td>\n",
       "      <td id=\"T_17920_row9_col4\" class=\"data row9 col4\" >0</td>\n",
       "      <td id=\"T_17920_row9_col5\" class=\"data row9 col5\" >0</td>\n",
       "      <td id=\"T_17920_row9_col6\" class=\"data row9 col6\" >110</td>\n",
       "      <td id=\"T_17920_row9_col7\" class=\"data row9 col7\" >246</td>\n",
       "      <td id=\"T_17920_row9_col8\" class=\"data row9 col8\" >254</td>\n",
       "      <td id=\"T_17920_row9_col9\" class=\"data row9 col9\" >254</td>\n",
       "      <td id=\"T_17920_row9_col10\" class=\"data row9 col10\" >254</td>\n",
       "      <td id=\"T_17920_row9_col11\" class=\"data row9 col11\" >254</td>\n",
       "      <td id=\"T_17920_row9_col12\" class=\"data row9 col12\" >254</td>\n",
       "      <td id=\"T_17920_row9_col13\" class=\"data row9 col13\" >171</td>\n",
       "      <td id=\"T_17920_row9_col14\" class=\"data row9 col14\" >0</td>\n",
       "    </tr>\n",
       "    <tr>\n",
       "      <th id=\"T_17920_level0_row10\" class=\"row_heading level0 row10\" >10</th>\n",
       "      <td id=\"T_17920_row10_col0\" class=\"data row10 col0\" >0</td>\n",
       "      <td id=\"T_17920_row10_col1\" class=\"data row10 col1\" >0</td>\n",
       "      <td id=\"T_17920_row10_col2\" class=\"data row10 col2\" >0</td>\n",
       "      <td id=\"T_17920_row10_col3\" class=\"data row10 col3\" >0</td>\n",
       "      <td id=\"T_17920_row10_col4\" class=\"data row10 col4\" >0</td>\n",
       "      <td id=\"T_17920_row10_col5\" class=\"data row10 col5\" >0</td>\n",
       "      <td id=\"T_17920_row10_col6\" class=\"data row10 col6\" >0</td>\n",
       "      <td id=\"T_17920_row10_col7\" class=\"data row10 col7\" >73</td>\n",
       "      <td id=\"T_17920_row10_col8\" class=\"data row10 col8\" >89</td>\n",
       "      <td id=\"T_17920_row10_col9\" class=\"data row10 col9\" >89</td>\n",
       "      <td id=\"T_17920_row10_col10\" class=\"data row10 col10\" >93</td>\n",
       "      <td id=\"T_17920_row10_col11\" class=\"data row10 col11\" >240</td>\n",
       "      <td id=\"T_17920_row10_col12\" class=\"data row10 col12\" >254</td>\n",
       "      <td id=\"T_17920_row10_col13\" class=\"data row10 col13\" >171</td>\n",
       "      <td id=\"T_17920_row10_col14\" class=\"data row10 col14\" >0</td>\n",
       "    </tr>\n",
       "    <tr>\n",
       "      <th id=\"T_17920_level0_row11\" class=\"row_heading level0 row11\" >11</th>\n",
       "      <td id=\"T_17920_row11_col0\" class=\"data row11 col0\" >0</td>\n",
       "      <td id=\"T_17920_row11_col1\" class=\"data row11 col1\" >0</td>\n",
       "      <td id=\"T_17920_row11_col2\" class=\"data row11 col2\" >0</td>\n",
       "      <td id=\"T_17920_row11_col3\" class=\"data row11 col3\" >0</td>\n",
       "      <td id=\"T_17920_row11_col4\" class=\"data row11 col4\" >0</td>\n",
       "      <td id=\"T_17920_row11_col5\" class=\"data row11 col5\" >0</td>\n",
       "      <td id=\"T_17920_row11_col6\" class=\"data row11 col6\" >0</td>\n",
       "      <td id=\"T_17920_row11_col7\" class=\"data row11 col7\" >0</td>\n",
       "      <td id=\"T_17920_row11_col8\" class=\"data row11 col8\" >0</td>\n",
       "      <td id=\"T_17920_row11_col9\" class=\"data row11 col9\" >0</td>\n",
       "      <td id=\"T_17920_row11_col10\" class=\"data row11 col10\" >1</td>\n",
       "      <td id=\"T_17920_row11_col11\" class=\"data row11 col11\" >128</td>\n",
       "      <td id=\"T_17920_row11_col12\" class=\"data row11 col12\" >254</td>\n",
       "      <td id=\"T_17920_row11_col13\" class=\"data row11 col13\" >219</td>\n",
       "      <td id=\"T_17920_row11_col14\" class=\"data row11 col14\" >31</td>\n",
       "    </tr>\n",
       "    <tr>\n",
       "      <th id=\"T_17920_level0_row12\" class=\"row_heading level0 row12\" >12</th>\n",
       "      <td id=\"T_17920_row12_col0\" class=\"data row12 col0\" >0</td>\n",
       "      <td id=\"T_17920_row12_col1\" class=\"data row12 col1\" >0</td>\n",
       "      <td id=\"T_17920_row12_col2\" class=\"data row12 col2\" >0</td>\n",
       "      <td id=\"T_17920_row12_col3\" class=\"data row12 col3\" >0</td>\n",
       "      <td id=\"T_17920_row12_col4\" class=\"data row12 col4\" >0</td>\n",
       "      <td id=\"T_17920_row12_col5\" class=\"data row12 col5\" >0</td>\n",
       "      <td id=\"T_17920_row12_col6\" class=\"data row12 col6\" >0</td>\n",
       "      <td id=\"T_17920_row12_col7\" class=\"data row12 col7\" >0</td>\n",
       "      <td id=\"T_17920_row12_col8\" class=\"data row12 col8\" >0</td>\n",
       "      <td id=\"T_17920_row12_col9\" class=\"data row12 col9\" >0</td>\n",
       "      <td id=\"T_17920_row12_col10\" class=\"data row12 col10\" >7</td>\n",
       "      <td id=\"T_17920_row12_col11\" class=\"data row12 col11\" >254</td>\n",
       "      <td id=\"T_17920_row12_col12\" class=\"data row12 col12\" >254</td>\n",
       "      <td id=\"T_17920_row12_col13\" class=\"data row12 col13\" >214</td>\n",
       "      <td id=\"T_17920_row12_col14\" class=\"data row12 col14\" >28</td>\n",
       "    </tr>\n",
       "    <tr>\n",
       "      <th id=\"T_17920_level0_row13\" class=\"row_heading level0 row13\" >13</th>\n",
       "      <td id=\"T_17920_row13_col0\" class=\"data row13 col0\" >0</td>\n",
       "      <td id=\"T_17920_row13_col1\" class=\"data row13 col1\" >0</td>\n",
       "      <td id=\"T_17920_row13_col2\" class=\"data row13 col2\" >0</td>\n",
       "      <td id=\"T_17920_row13_col3\" class=\"data row13 col3\" >0</td>\n",
       "      <td id=\"T_17920_row13_col4\" class=\"data row13 col4\" >0</td>\n",
       "      <td id=\"T_17920_row13_col5\" class=\"data row13 col5\" >0</td>\n",
       "      <td id=\"T_17920_row13_col6\" class=\"data row13 col6\" >0</td>\n",
       "      <td id=\"T_17920_row13_col7\" class=\"data row13 col7\" >0</td>\n",
       "      <td id=\"T_17920_row13_col8\" class=\"data row13 col8\" >0</td>\n",
       "      <td id=\"T_17920_row13_col9\" class=\"data row13 col9\" >0</td>\n",
       "      <td id=\"T_17920_row13_col10\" class=\"data row13 col10\" >138</td>\n",
       "      <td id=\"T_17920_row13_col11\" class=\"data row13 col11\" >254</td>\n",
       "      <td id=\"T_17920_row13_col12\" class=\"data row13 col12\" >254</td>\n",
       "      <td id=\"T_17920_row13_col13\" class=\"data row13 col13\" >116</td>\n",
       "      <td id=\"T_17920_row13_col14\" class=\"data row13 col14\" >0</td>\n",
       "    </tr>\n",
       "    <tr>\n",
       "      <th id=\"T_17920_level0_row14\" class=\"row_heading level0 row14\" >14</th>\n",
       "      <td id=\"T_17920_row14_col0\" class=\"data row14 col0\" >0</td>\n",
       "      <td id=\"T_17920_row14_col1\" class=\"data row14 col1\" >19</td>\n",
       "      <td id=\"T_17920_row14_col2\" class=\"data row14 col2\" >177</td>\n",
       "      <td id=\"T_17920_row14_col3\" class=\"data row14 col3\" >90</td>\n",
       "      <td id=\"T_17920_row14_col4\" class=\"data row14 col4\" >0</td>\n",
       "      <td id=\"T_17920_row14_col5\" class=\"data row14 col5\" >0</td>\n",
       "      <td id=\"T_17920_row14_col6\" class=\"data row14 col6\" >0</td>\n",
       "      <td id=\"T_17920_row14_col7\" class=\"data row14 col7\" >0</td>\n",
       "      <td id=\"T_17920_row14_col8\" class=\"data row14 col8\" >0</td>\n",
       "      <td id=\"T_17920_row14_col9\" class=\"data row14 col9\" >25</td>\n",
       "      <td id=\"T_17920_row14_col10\" class=\"data row14 col10\" >240</td>\n",
       "      <td id=\"T_17920_row14_col11\" class=\"data row14 col11\" >254</td>\n",
       "      <td id=\"T_17920_row14_col12\" class=\"data row14 col12\" >254</td>\n",
       "      <td id=\"T_17920_row14_col13\" class=\"data row14 col13\" >34</td>\n",
       "      <td id=\"T_17920_row14_col14\" class=\"data row14 col14\" >0</td>\n",
       "    </tr>\n",
       "  </tbody>\n",
       "</table>\n"
      ],
      "text/plain": [
       "<pandas.io.formats.style.Styler at 0x177180f70>"
      ]
     },
     "execution_count": 11,
     "metadata": {},
     "output_type": "execute_result"
    }
   ],
   "source": [
    "df.style.set_properties(**{'font-size': '6pt'}).background_gradient('Greys')"
   ]
  },
  {
   "cell_type": "markdown",
   "id": "c20b62ae-57a7-473f-8a86-7f7a56ceb76b",
   "metadata": {},
   "source": [
    "## Let's try to get the ideal 3 and 7"
   ]
  },
  {
   "cell_type": "code",
   "execution_count": 12,
   "id": "b79d9d8e-2af6-498b-8a5d-2836e0aaa1dd",
   "metadata": {},
   "outputs": [
    {
     "data": {
      "text/plain": [
       "[tensor([[  0,   0,   0,   0,   0,   0,   0,   0,   0,   0,   0,   0,   0,   0,\n",
       "            0,   0,   0,   0,   0,   0,   0,   0,   0,   0,   0,   0,   0,   0],\n",
       "         [  0,   0,   0,   0,   0,   0,   0,   0,   0,   0,   0,   0,   0,   0,\n",
       "            0,   0,   0,   0,   0,   0,   0,   0,   0,   0,   0,   0,   0,   0],\n",
       "         [  0,   0,   0,   0,   0,   0,   0,   0,   0,   0,   0,   0,   0,   0,\n",
       "            0,   0,   0,   0,   0,   0,   0,   0,   0,   0,   0,   0,   0,   0],\n",
       "         [  0,   0,   0,   0,   0,   0,   0,   0,   0,   0,   0,   0,   0,   0,\n",
       "            0,   0,   0,   0,   0,   0,   0,   0,   0,   0,   0,   0,   0,   0],\n",
       "         [  0,   0,   0,   0,   0,   0,   0,   0,   0,   0,   0,  42, 118, 219,\n",
       "          166, 118, 118,   6,   0,   0,   0,   0,   0,   0,   0,   0,   0,   0],\n",
       "         [  0,   0,   0,   0,   0,   0,   0,   0,   0,   0, 103, 242, 254, 254,\n",
       "          254, 254, 254,  66,   0,   0,   0,   0,   0,   0,   0,   0,   0,   0],\n",
       "         [  0,   0,   0,   0,   0,   0,   0,   0,   0,   0,  18, 232, 254, 254,\n",
       "          254, 254, 254, 238,  70,   0,   0,   0,   0,   0,   0,   0,   0,   0],\n",
       "         [  0,   0,   0,   0,   0,   0,   0,   0,   0,   0,   0, 104, 244, 254,\n",
       "          224, 254, 254, 254, 141,   0,   0,   0,   0,   0,   0,   0,   0,   0],\n",
       "         [  0,   0,   0,   0,   0,   0,   0,   0,   0,   0,   0,   0, 207, 254,\n",
       "          210, 254, 254, 254,  34,   0,   0,   0,   0,   0,   0,   0,   0,   0],\n",
       "         [  0,   0,   0,   0,   0,   0,   0,   0,   0,   0,   0,   0,  84, 206,\n",
       "          254, 254, 254, 254,  41,   0,   0,   0,   0,   0,   0,   0,   0,   0],\n",
       "         [  0,   0,   0,   0,   0,   0,   0,   0,   0,   0,   0,   0,   0,  24,\n",
       "          209, 254, 254, 254, 171,   0,   0,   0,   0,   0,   0,   0,   0,   0],\n",
       "         [  0,   0,   0,   0,   0,   0,   0,   0,   0,   0,   0,   0,  91, 137,\n",
       "          253, 254, 254, 254, 112,   0,   0,   0,   0,   0,   0,   0,   0,   0],\n",
       "         [  0,   0,   0,   0,   0,   0,   0,   0,   0,   0,  40, 214, 250, 254,\n",
       "          254, 254, 254, 254,  34,   0,   0,   0,   0,   0,   0,   0,   0,   0],\n",
       "         [  0,   0,   0,   0,   0,   0,   0,   0,   0,   0,  81, 247, 254, 254,\n",
       "          254, 254, 254, 254, 146,   0,   0,   0,   0,   0,   0,   0,   0,   0],\n",
       "         [  0,   0,   0,   0,   0,   0,   0,   0,   0,   0,   0, 110, 246, 254,\n",
       "          254, 254, 254, 254, 171,   0,   0,   0,   0,   0,   0,   0,   0,   0],\n",
       "         [  0,   0,   0,   0,   0,   0,   0,   0,   0,   0,   0,   0,  73,  89,\n",
       "           89,  93, 240, 254, 171,   0,   0,   0,   0,   0,   0,   0,   0,   0],\n",
       "         [  0,   0,   0,   0,   0,   0,   0,   0,   0,   0,   0,   0,   0,   0,\n",
       "            0,   1, 128, 254, 219,  31,   0,   0,   0,   0,   0,   0,   0,   0],\n",
       "         [  0,   0,   0,   0,   0,   0,   0,   0,   0,   0,   0,   0,   0,   0,\n",
       "            0,   7, 254, 254, 214,  28,   0,   0,   0,   0,   0,   0,   0,   0],\n",
       "         [  0,   0,   0,   0,   0,   0,   0,   0,   0,   0,   0,   0,   0,   0,\n",
       "            0, 138, 254, 254, 116,   0,   0,   0,   0,   0,   0,   0,   0,   0],\n",
       "         [  0,   0,   0,   0,   0,   0,  19, 177,  90,   0,   0,   0,   0,   0,\n",
       "           25, 240, 254, 254,  34,   0,   0,   0,   0,   0,   0,   0,   0,   0],\n",
       "         [  0,   0,   0,   0,   0,   0, 164, 254, 215,  63,  36,   0,  51,  89,\n",
       "          206, 254, 254, 139,   8,   0,   0,   0,   0,   0,   0,   0,   0,   0],\n",
       "         [  0,   0,   0,   0,   0,   0,  57, 197, 254, 254, 222, 180, 241, 254,\n",
       "          254, 253, 213,  11,   0,   0,   0,   0,   0,   0,   0,   0,   0,   0],\n",
       "         [  0,   0,   0,   0,   0,   0,   0, 140, 105, 254, 254, 254, 254, 254,\n",
       "          254, 236,   0,   0,   0,   0,   0,   0,   0,   0,   0,   0,   0,   0],\n",
       "         [  0,   0,   0,   0,   0,   0,   0,   0,   7, 117, 117, 165, 254, 254,\n",
       "          239,  50,   0,   0,   0,   0,   0,   0,   0,   0,   0,   0,   0,   0],\n",
       "         [  0,   0,   0,   0,   0,   0,   0,   0,   0,   0,   0,   0,   0,   0,\n",
       "            0,   0,   0,   0,   0,   0,   0,   0,   0,   0,   0,   0,   0,   0],\n",
       "         [  0,   0,   0,   0,   0,   0,   0,   0,   0,   0,   0,   0,   0,   0,\n",
       "            0,   0,   0,   0,   0,   0,   0,   0,   0,   0,   0,   0,   0,   0],\n",
       "         [  0,   0,   0,   0,   0,   0,   0,   0,   0,   0,   0,   0,   0,   0,\n",
       "            0,   0,   0,   0,   0,   0,   0,   0,   0,   0,   0,   0,   0,   0],\n",
       "         [  0,   0,   0,   0,   0,   0,   0,   0,   0,   0,   0,   0,   0,   0,\n",
       "            0,   0,   0,   0,   0,   0,   0,   0,   0,   0,   0,   0,   0,   0]],\n",
       "        dtype=torch.uint8),\n",
       " tensor([[  0,   0,   0,   0,   0,   0,   0,   0,   0,   0,   0,   0,   0,   0,\n",
       "            0,   0,   0,   0,   0,   0,   0,   0,   0,   0,   0,   0,   0,   0],\n",
       "         [  0,   0,   0,   0,   0,   0,   0,   0,   0,   0,   0,   0,   0,   0,\n",
       "            0,   0,   0,   0,   0,   0,   0,   0,   0,   0,   0,   0,   0,   0],\n",
       "         [  0,   0,   0,   0,   0,   0,   0,   0,   0,   0,   0,   0,   0,   0,\n",
       "            0,   0,   0,   0,   0,   0,   0,   0,   0,   0,   0,   0,   0,   0],\n",
       "         [  0,   0,   0,   0,   0,   0,   0,   0,   0,   0,   0,   0,   0,   0,\n",
       "            0,   0,   0,   0,   0,   0,   0,   0,   0,   0,   0,   0,   0,   0],\n",
       "         [  0,   0,   0,   0,   0,   0,   0,   0,   0,   0,   0,   0,   0,   0,\n",
       "            0,   0,   0,   0,   0,   0,   0,   0,   0,   0,   0,   0,   0,   0],\n",
       "         [  0,   0,   0,   0,   0,   0,   0,   0,   0,  29, 150, 195, 254, 255,\n",
       "          254, 176, 193, 150,  96,   0,   0,   0,   0,   0,   0,   0,   0,   0],\n",
       "         [  0,   0,   0,   0,   0,   0,   0,  48, 166, 224, 253, 253, 234, 196,\n",
       "          253, 253, 253, 253, 233,   0,   0,   0,   0,   0,   0,   0,   0,   0],\n",
       "         [  0,   0,   0,   0,   0,  93, 244, 249, 253, 187,  46,  10,   8,   4,\n",
       "           10, 194, 253, 253, 233,   0,   0,   0,   0,   0,   0,   0,   0,   0],\n",
       "         [  0,   0,   0,   0,   0, 107, 253, 253, 230,  48,   0,   0,   0,   0,\n",
       "            0, 192, 253, 253, 156,   0,   0,   0,   0,   0,   0,   0,   0,   0],\n",
       "         [  0,   0,   0,   0,   0,   3,  20,  20,  15,   0,   0,   0,   0,   0,\n",
       "           43, 224, 253, 245,  74,   0,   0,   0,   0,   0,   0,   0,   0,   0],\n",
       "         [  0,   0,   0,   0,   0,   0,   0,   0,   0,   0,   0,   0,   0,   0,\n",
       "          249, 253, 245, 126,   0,   0,   0,   0,   0,   0,   0,   0,   0,   0],\n",
       "         [  0,   0,   0,   0,   0,   0,   0,   0,   0,   0,   0,  14, 101, 223,\n",
       "          253, 248, 124,   0,   0,   0,   0,   0,   0,   0,   0,   0,   0,   0],\n",
       "         [  0,   0,   0,   0,   0,   0,   0,   0,   0,  11, 166, 239, 253, 253,\n",
       "          253, 187,  30,   0,   0,   0,   0,   0,   0,   0,   0,   0,   0,   0],\n",
       "         [  0,   0,   0,   0,   0,   0,   0,   0,   0,  16, 248, 250, 253, 253,\n",
       "          253, 253, 232, 213, 111,   2,   0,   0,   0,   0,   0,   0,   0,   0],\n",
       "         [  0,   0,   0,   0,   0,   0,   0,   0,   0,   0,   0,  43,  98,  98,\n",
       "          208, 253, 253, 253, 253, 187,  22,   0,   0,   0,   0,   0,   0,   0],\n",
       "         [  0,   0,   0,   0,   0,   0,   0,   0,   0,   0,   0,   0,   0,   0,\n",
       "            9,  51, 119, 253, 253, 253,  76,   0,   0,   0,   0,   0,   0,   0],\n",
       "         [  0,   0,   0,   0,   0,   0,   0,   0,   0,   0,   0,   0,   0,   0,\n",
       "            0,   0,   1, 183, 253, 253, 139,   0,   0,   0,   0,   0,   0,   0],\n",
       "         [  0,   0,   0,   0,   0,   0,   0,   0,   0,   0,   0,   0,   0,   0,\n",
       "            0,   0,   0, 182, 253, 253, 104,   0,   0,   0,   0,   0,   0,   0],\n",
       "         [  0,   0,   0,   0,   0,   0,   0,   0,   0,   0,   0,   0,   0,   0,\n",
       "            0,   0,  85, 249, 253, 253,  36,   0,   0,   0,   0,   0,   0,   0],\n",
       "         [  0,   0,   0,   0,   0,   0,   0,   0,   0,   0,   0,   0,   0,   0,\n",
       "            0,  60, 214, 253, 253, 173,  11,   0,   0,   0,   0,   0,   0,   0],\n",
       "         [  0,   0,   0,   0,   0,   0,   0,   0,   0,   0,   0,   0,   0,   0,\n",
       "           98, 247, 253, 253, 226,   9,   0,   0,   0,   0,   0,   0,   0,   0],\n",
       "         [  0,   0,   0,   0,   0,   0,   0,   0,   0,   0,   0,   0,  42, 150,\n",
       "          252, 253, 253, 233,  53,   0,   0,   0,   0,   0,   0,   0,   0,   0],\n",
       "         [  0,   0,   0,   0,   0,   0,  42, 115,  42,  60, 115, 159, 240, 253,\n",
       "          253, 250, 175,  25,   0,   0,   0,   0,   0,   0,   0,   0,   0,   0],\n",
       "         [  0,   0,   0,   0,   0,   0, 187, 253, 253, 253, 253, 253, 253, 253,\n",
       "          197,  86,   0,   0,   0,   0,   0,   0,   0,   0,   0,   0,   0,   0],\n",
       "         [  0,   0,   0,   0,   0,   0, 103, 253, 253, 253, 253, 253, 232,  67,\n",
       "            1,   0,   0,   0,   0,   0,   0,   0,   0,   0,   0,   0,   0,   0],\n",
       "         [  0,   0,   0,   0,   0,   0,   0,   0,   0,   0,   0,   0,   0,   0,\n",
       "            0,   0,   0,   0,   0,   0,   0,   0,   0,   0,   0,   0,   0,   0],\n",
       "         [  0,   0,   0,   0,   0,   0,   0,   0,   0,   0,   0,   0,   0,   0,\n",
       "            0,   0,   0,   0,   0,   0,   0,   0,   0,   0,   0,   0,   0,   0],\n",
       "         [  0,   0,   0,   0,   0,   0,   0,   0,   0,   0,   0,   0,   0,   0,\n",
       "            0,   0,   0,   0,   0,   0,   0,   0,   0,   0,   0,   0,   0,   0]],\n",
       "        dtype=torch.uint8),\n",
       " tensor([[  0,   0,   0,   0,   0,   0,   0,   0,   0,   0,   0,   0,   0,   0,\n",
       "            0,   0,   0,   0,   0,   0,   0,   0,   0,   0,   0,   0,   0,   0],\n",
       "         [  0,   0,   0,   0,   0,   0,   0,   0,   0,   0,   0,   0,   0,   0,\n",
       "            0,   0,   0,   0,   0,   0,   0,   0,   0,   0,   0,   0,   0,   0],\n",
       "         [  0,   0,   0,   0,   0,   0,   0,   0,   0,   0,   0,   0,   0,   0,\n",
       "            0,   0,   0,   0,   0,   0,   0,   0,   0,   0,   0,   0,   0,   0],\n",
       "         [  0,   0,   0,   0,   0,   0,   0,   0,   0,   0,   0,   0,   0,   0,\n",
       "            0,   0,   0,   0,   0,   0,   0,   0,   0,   0,   0,   0,   0,   0],\n",
       "         [  0,   0,   0,   0,   0,   0,   0,   0,   0,   0,   0,   0,   0,   0,\n",
       "            0,   0,   0,   0,   0,   0,   0,   0,   0,   0,   0,   0,   0,   0],\n",
       "         [  0,   0,   0,   0,   0,   0,   0,   0,   0,   0,   1,  18,  93, 164,\n",
       "          254, 255, 254, 254, 254, 151,   0,   0,   0,   0,   0,   0,   0,   0],\n",
       "         [  0,   0,   0,   0,   0,   0,   0,   0,  13,  36, 151, 253, 253, 253,\n",
       "          253, 253, 253, 218, 239, 213,  10,   0,   0,   0,   0,   0,   0,   0],\n",
       "         [  0,   0,   0,   0,   0,   0,   0,   0,  89, 253, 253, 253, 245, 172,\n",
       "           82,  82,  82,   2, 148, 253, 150,   0,   0,   0,   0,   0,   0,   0],\n",
       "         [  0,   0,   0,   0,   0,   0,   0,   0,  89, 253, 252, 171,  54,   0,\n",
       "            0,   0,   0,  37, 177, 253, 188,   0,   0,   0,   0,   0,   0,   0],\n",
       "         [  0,   0,   0,   0,   0,   0,   0,   0,  17, 151,  51,   0,   0,   0,\n",
       "            0,   0,  40, 229, 253, 253, 147,   0,   0,   0,   0,   0,   0,   0],\n",
       "         [  0,   0,   0,   0,   0,   0,   0,   0,   0,   0,   0,   0,   0,   0,\n",
       "           83, 206, 237, 253, 253, 211,   8,   0,   0,   0,   0,   0,   0,   0],\n",
       "         [  0,   0,   0,   0,   0,   0,   0,   0,   0,   0,   0,  70, 143, 243,\n",
       "          251, 253, 253, 253, 181,  50,   0,   0,   0,   0,   0,   0,   0,   0],\n",
       "         [  0,   0,   0,   0,   0,   0,   0,   0,   0,   0,   4, 204, 253, 253,\n",
       "          253, 253, 253, 253, 106,   0,   0,   0,   0,   0,   0,   0,   0,   0],\n",
       "         [  0,   0,   0,   0,   0,   0,   0,   0,   0,   0,   5, 235, 253, 253,\n",
       "          221, 167,  94, 250, 125,   0,   0,   0,   0,   0,   0,   0,   0,   0],\n",
       "         [  0,   0,   0,   0,   0,   0,   0,   0,   0,   0,   0, 110, 175,  76,\n",
       "           18,   0,   0, 249, 244,  62,   0,   0,   0,   0,   0,   0,   0,   0],\n",
       "         [  0,   0,   0,   0,   0,   0,   0,   0,   0,   0,   0,   0,   0,   0,\n",
       "            0,   0,   0, 213, 253, 124,   0,   0,   0,   0,   0,   0,   0,   0],\n",
       "         [  0,   0,   0,   0,   0,   0,   0,   0,   0,   0,   0,   0,   0,   0,\n",
       "            0,   0,   0, 130, 253, 206,   0,   0,   0,   0,   0,   0,   0,   0],\n",
       "         [  0,   0,   0,   0,   0,   0,   0,   0,   0,   0,   0,   0,   0,   0,\n",
       "            0,   0,   0, 238, 253, 206,   0,   0,   0,   0,   0,   0,   0,   0],\n",
       "         [  0,   0,   0,   0,   0,   0,   3, 189, 207,  21,   0,   0,   0,   0,\n",
       "            0,   0,   0, 249, 253, 145,   0,   0,   0,   0,   0,   0,   0,   0],\n",
       "         [  0,   0,   0,   0,   0,   0,  23, 216, 253, 159,   2,   0,   0,   0,\n",
       "            0,   0,  80, 251, 253,  88,   0,   0,   0,   0,   0,   0,   0,   0],\n",
       "         [  0,   0,   0,   0,   0,   0,   0, 167, 253, 253,  33,   0,   0,   0,\n",
       "            0,  63, 246, 253, 212,  31,   0,   0,   0,   0,   0,   0,   0,   0],\n",
       "         [  0,   0,   0,   0,   0,   0,   0,  20, 189, 253, 219, 112,   0,   0,\n",
       "           87, 209, 253, 253, 106,   0,   0,   0,   0,   0,   0,   0,   0,   0],\n",
       "         [  0,   0,   0,   0,   0,   0,   0,   0,  60, 244, 253, 248, 201, 201,\n",
       "          241, 253, 253, 211,  72,   0,   0,   0,   0,   0,   0,   0,   0,   0],\n",
       "         [  0,   0,   0,   0,   0,   0,   0,   0,   0,  81, 249, 253, 253, 253,\n",
       "          253, 253, 209,  19,   0,   0,   0,   0,   0,   0,   0,   0,   0,   0],\n",
       "         [  0,   0,   0,   0,   0,   0,   0,   0,   0,   0,  19, 201, 253, 253,\n",
       "          217,  91,  10,   0,   0,   0,   0,   0,   0,   0,   0,   0,   0,   0],\n",
       "         [  0,   0,   0,   0,   0,   0,   0,   0,   0,   0,   0,   0,   0,   0,\n",
       "            0,   0,   0,   0,   0,   0,   0,   0,   0,   0,   0,   0,   0,   0],\n",
       "         [  0,   0,   0,   0,   0,   0,   0,   0,   0,   0,   0,   0,   0,   0,\n",
       "            0,   0,   0,   0,   0,   0,   0,   0,   0,   0,   0,   0,   0,   0],\n",
       "         [  0,   0,   0,   0,   0,   0,   0,   0,   0,   0,   0,   0,   0,   0,\n",
       "            0,   0,   0,   0,   0,   0,   0,   0,   0,   0,   0,   0,   0,   0]],\n",
       "        dtype=torch.uint8)]"
      ]
     },
     "execution_count": 12,
     "metadata": {},
     "output_type": "execute_result"
    }
   ],
   "source": [
    "three_tensors = [tensor(Image.open(im3)) for im3 in threes_path]\n",
    "seven_tensors = [tensor(Image.open(img7)) for img7 in sevens_path]\n",
    "\n",
    "three_tensors[0:3]"
   ]
  },
  {
   "cell_type": "code",
   "execution_count": 13,
   "id": "0962d5bc-81dc-4b8c-94b4-3713345fc6d4",
   "metadata": {},
   "outputs": [
    {
     "data": {
      "text/plain": [
       "6131"
      ]
     },
     "execution_count": 13,
     "metadata": {},
     "output_type": "execute_result"
    }
   ],
   "source": [
    "len(three_tensors)"
   ]
  },
  {
   "cell_type": "code",
   "execution_count": 14,
   "id": "5aa5ab80-41cf-41e0-8251-0e88ec2656de",
   "metadata": {},
   "outputs": [
    {
     "data": {
      "text/plain": [
       "2"
      ]
     },
     "execution_count": 14,
     "metadata": {},
     "output_type": "execute_result"
    }
   ],
   "source": [
    "a_three_tensor = three_tensors[0]\n",
    "a_three_tensor.ndim"
   ]
  },
  {
   "cell_type": "code",
   "execution_count": 15,
   "id": "29457e03-d6d7-46d9-91f7-5e5c4d431ff6",
   "metadata": {},
   "outputs": [
    {
     "data": {
      "text/plain": [
       "torch.Size([28, 28])"
      ]
     },
     "execution_count": 15,
     "metadata": {},
     "output_type": "execute_result"
    }
   ],
   "source": [
    "a_three_tensor.shape"
   ]
  },
  {
   "cell_type": "code",
   "execution_count": 16,
   "id": "85faf9f3-0935-4b39-8b2a-a3a24f523552",
   "metadata": {},
   "outputs": [
    {
     "data": {
      "text/plain": [
       "<Axes: >"
      ]
     },
     "execution_count": 16,
     "metadata": {},
     "output_type": "execute_result"
    },
    {
     "data": {
      "image/png": "[encoded data removed]",
      "text/plain": [
       "<Figure size 100x100 with 1 Axes>"
      ]
     },
     "metadata": {},
     "output_type": "display_data"
    }
   ],
   "source": [
    "show_image(a_three_tensor)"
   ]
  },
  {
   "cell_type": "code",
   "execution_count": 17,
   "id": "e0e09bcb-c5b7-492f-90af-cdb87689c310",
   "metadata": {},
   "outputs": [
    {
     "data": {
      "text/plain": [
       "torch.Size([6131, 28, 28])"
      ]
     },
     "execution_count": 17,
     "metadata": {},
     "output_type": "execute_result"
    }
   ],
   "source": [
    "# Convert the list of tensors to an stack\n",
    "stacked_threes = torch.stack(three_tensors)\n",
    "stacked_threes.shape"
   ]
  },
  {
   "cell_type": "code",
   "execution_count": 18,
   "id": "48c94e8e-4cce-444d-822b-70c85c1189ea",
   "metadata": {},
   "outputs": [
    {
     "data": {
      "text/plain": [
       "(3, 3)"
      ]
     },
     "execution_count": 18,
     "metadata": {},
     "output_type": "execute_result"
    }
   ],
   "source": [
    "# It's a rank 3\n",
    "len(stacked_threes.shape), stacked_threes.ndim"
   ]
  },
  {
   "cell_type": "code",
   "execution_count": 19,
   "id": "5cb7e199-4ec0-4eff-805e-dc434e4864ae",
   "metadata": {},
   "outputs": [],
   "source": [
    "stacked_threes = stacked_threes.float()\n",
    "stacked_threes = stacked_threes/255\n",
    "\n",
    "stacked_sevens = torch.stack(seven_tensors).float()/255"
   ]
  },
  {
   "cell_type": "code",
   "execution_count": 20,
   "id": "1763720b-3a6d-44e7-845c-29e042d2c8a3",
   "metadata": {},
   "outputs": [
    {
     "data": {
      "text/plain": [
       "<Axes: >"
      ]
     },
     "execution_count": 20,
     "metadata": {},
     "output_type": "execute_result"
    },
    {
     "data": {
      "image/png": "[encoded data removed]",
      "text/plain": [
       "<Figure size 100x100 with 1 Axes>"
      ]
     },
     "metadata": {},
     "output_type": "display_data"
    }
   ],
   "source": [
    "# The ideal 3 and 7\n",
    "mean3 = stacked_threes.mean(0)\n",
    "mean7 = stacked_sevens.mean(0)\n",
    "show_image(mean3)"
   ]
  },
  {
   "cell_type": "code",
   "execution_count": 21,
   "id": "06543122-a9d6-413d-ae80-10c763abe153",
   "metadata": {},
   "outputs": [],
   "source": [
    "matplotlib.rc('image', cmap='Greys')"
   ]
  },
  {
   "cell_type": "code",
   "execution_count": 22,
   "id": "8bd370bd-9e8f-4935-bde5-62d6b1f04078",
   "metadata": {},
   "outputs": [
    {
     "data": {
      "text/plain": [
       "<Axes: >"
      ]
     },
     "execution_count": 22,
     "metadata": {},
     "output_type": "execute_result"
    },
    {
     "data": {
      "image/png": "[encoded data removed]",
      "text/plain": [
       "<Figure size 100x100 with 1 Axes>"
      ]
     },
     "metadata": {},
     "output_type": "display_data"
    }
   ],
   "source": [
    "show_image(mean3)"
   ]
  },
  {
   "cell_type": "markdown",
   "id": "cc08ba0e-e212-4593-a93d-0effe91aa7e2",
   "metadata": {},
   "source": [
    "## Measure the distance"
   ]
  },
  {
   "cell_type": "code",
   "execution_count": 23,
   "id": "d8a7aeb8-d401-4738-a7a2-381f96ca386c",
   "metadata": {},
   "outputs": [
    {
     "data": {
      "text/plain": [
       "(tensor(0.1700), tensor(0.3016))"
      ]
     },
     "execution_count": 23,
     "metadata": {},
     "output_type": "execute_result"
    }
   ],
   "source": [
    "a_3 = stacked_threes[5]\n",
    "\n",
    "# ABS\n",
    "dist_3_abs = (a_3 - mean3).abs().mean()\n",
    "\n",
    "# SQRT\n",
    "dist_3_sqrt = ((a_3 - mean3)**2).mean().sqrt()\n",
    "\n",
    "dist_3_abs, dist_3_sqrt"
   ]
  },
  {
   "cell_type": "code",
   "execution_count": 24,
   "id": "89e72d7c-e0b6-42b7-84db-f5a486c41c75",
   "metadata": {},
   "outputs": [
    {
     "data": {
      "text/plain": [
       "(tensor(0.0867), tensor(0.1675))"
      ]
     },
     "execution_count": 24,
     "metadata": {},
     "output_type": "execute_result"
    }
   ],
   "source": [
    "a_7 = stacked_sevens[7]\n",
    "dist_7_abs = (a_7 - mean7).abs().mean()\n",
    "dist_7_sqrt = ((a_7 - mean7)**2).mean().sqrt()\n",
    "dist_7_abs, dist_7_sqrt"
   ]
  },
  {
   "cell_type": "code",
   "execution_count": 25,
   "id": "105f17d2-76d8-4900-a93f-f31159366ed8",
   "metadata": {},
   "outputs": [
    {
     "data": {
      "text/plain": [
       "(tensor(0.1700), tensor(0.0867))"
      ]
     },
     "execution_count": 25,
     "metadata": {},
     "output_type": "execute_result"
    }
   ],
   "source": [
    "# You can do the same with PyTorch\n",
    "l1_3 = F.l1_loss(a_3.float(), mean3)\n",
    "l1_7 = F.l1_loss(a_7.float(), mean7)\n",
    "\n",
    "l1_3, l1_7"
   ]
  },
  {
   "cell_type": "code",
   "execution_count": 26,
   "id": "b9ac4592-414f-4184-982b-d2c9ceee8eac",
   "metadata": {},
   "outputs": [
    {
     "data": {
      "text/plain": [
       "(tensor(0.3016), tensor(0.1675))"
      ]
     },
     "execution_count": 26,
     "metadata": {},
     "output_type": "execute_result"
    }
   ],
   "source": [
    "l2_3 = F.mse_loss(a_3.float(), mean3).sqrt()\n",
    "l2_7 = F.mse_loss(a_7.float(), mean7).sqrt()\n",
    "\n",
    "l2_3, l2_7"
   ]
  },
  {
   "cell_type": "markdown",
   "id": "9020fc55-3781-4a44-8631-0ebd37ce8f9c",
   "metadata": {},
   "source": [
    "## Playing with Tensors and Arrays"
   ]
  },
  {
   "cell_type": "code",
   "execution_count": 27,
   "id": "d6f27ff5-e86c-4436-a820-4be48ec42203",
   "metadata": {},
   "outputs": [
    {
     "data": {
      "text/plain": [
       "[[1, 2, 3], [4, 5, 6]]"
      ]
     },
     "execution_count": 27,
     "metadata": {},
     "output_type": "execute_result"
    }
   ],
   "source": [
    "data = [[1,2,3], [4,5,6]]\n",
    "data"
   ]
  },
  {
   "cell_type": "code",
   "execution_count": 28,
   "id": "20dbbc28-bd18-49c1-881f-cc4cf14d19e1",
   "metadata": {},
   "outputs": [
    {
     "data": {
      "text/plain": [
       "(array([[1, 2, 3],\n",
       "        [4, 5, 6]]),\n",
       " tensor([[1, 2, 3],\n",
       "         [4, 5, 6]]))"
      ]
     },
     "execution_count": 28,
     "metadata": {},
     "output_type": "execute_result"
    }
   ],
   "source": [
    "arr = array(data)\n",
    "tns = tensor(data)\n",
    "arr, tns"
   ]
  },
  {
   "cell_type": "code",
   "execution_count": 29,
   "id": "817df13a-5d24-46d2-8341-231fc891a0f7",
   "metadata": {},
   "outputs": [
    {
     "data": {
      "text/plain": [
       "(tensor([[2, 3, 4],\n",
       "         [5, 6, 7]]),\n",
       " array([[2, 3, 4],\n",
       "        [5, 6, 7]]))"
      ]
     },
     "execution_count": 29,
     "metadata": {},
     "output_type": "execute_result"
    }
   ],
   "source": [
    "tns+1, arr+1"
   ]
  },
  {
   "cell_type": "markdown",
   "id": "9e94035b-39eb-4ec8-953c-b686adfe3cbb",
   "metadata": {},
   "source": [
    "## Broadcasting"
   ]
  },
  {
   "cell_type": "code",
   "execution_count": 30,
   "id": "59994438-4d01-4de3-aa83-52f303a5640e",
   "metadata": {},
   "outputs": [],
   "source": [
    "valid_3_tensors = torch.stack([tensor(Image.open(o)) for o in (path/'valid'/'3').ls()]).float()/255\n",
    "valid_7_tensors = torch.stack([tensor(Image.open(o)) for o in (path/'valid'/'7').ls()]).float()/255"
   ]
  },
  {
   "cell_type": "code",
   "execution_count": 31,
   "id": "6e33bc09-968f-41c0-8373-48dd14144d53",
   "metadata": {},
   "outputs": [],
   "source": [
    "def mnist_distance(a, b):\n",
    "    # (-1, -2): Range axes\n",
    "    # -1 the last element, -2 the second-to-last element\n",
    "    return (a-b).abs().mean((-1, -2))"
   ]
  },
  {
   "cell_type": "code",
   "execution_count": 32,
   "id": "99866f03-d530-4cb6-86f9-f80854699304",
   "metadata": {},
   "outputs": [
    {
     "data": {
      "text/plain": [
       "(tensor(0.1700),\n",
       " tensor([0.1634, 0.1145, 0.1363,  ..., 0.1105, 0.1111, 0.1640]))"
      ]
     },
     "execution_count": 32,
     "metadata": {},
     "output_type": "execute_result"
    }
   ],
   "source": [
    "# For one image\n",
    "one_3_distance = mnist_distance(a_3, mean3)\n",
    "valid_3_distance = mnist_distance(valid_3_tensors, mean3)\n",
    "\n",
    "one_3_distance, valid_3_distance"
   ]
  },
  {
   "cell_type": "code",
   "execution_count": 33,
   "id": "e60f0e72-3621-4c40-a716-394112ef43b2",
   "metadata": {},
   "outputs": [
    {
     "data": {
      "text/plain": [
       "tensor([0.0931, 0.1376, 0.0880,  ..., 0.0937, 0.0911, 0.0974])"
      ]
     },
     "execution_count": 33,
     "metadata": {},
     "output_type": "execute_result"
    }
   ],
   "source": [
    "valid_7_distance = mnist_distance(valid_7_tensors, mean7)\n",
    "valid_7_distance"
   ]
  },
  {
   "cell_type": "code",
   "execution_count": 34,
   "id": "d23e1406-601e-423b-8d34-c81ed8a5aa49",
   "metadata": {},
   "outputs": [
    {
     "data": {
      "text/plain": [
       "(torch.Size([1010]), torch.Size([1028]))"
      ]
     },
     "execution_count": 34,
     "metadata": {},
     "output_type": "execute_result"
    }
   ],
   "source": [
    "valid_3_distance.shape, valid_7_distance.shape"
   ]
  },
  {
   "cell_type": "code",
   "execution_count": 35,
   "id": "8332a41f-3146-4f68-a0f4-9f5b25b7409e",
   "metadata": {},
   "outputs": [],
   "source": [
    "def is_a_3(x):\n",
    "    return mnist_distance(x, mean3) < mnist_distance(x, mean7)"
   ]
  },
  {
   "cell_type": "code",
   "execution_count": 36,
   "id": "96a57526-d105-4a36-bb27-04f158810e2f",
   "metadata": {},
   "outputs": [
    {
     "data": {
      "text/plain": [
       "(tensor(True), tensor(1.))"
      ]
     },
     "execution_count": 36,
     "metadata": {},
     "output_type": "execute_result"
    }
   ],
   "source": [
    "is_a_3(a_3), is_a_3(a_3).float()"
   ]
  },
  {
   "cell_type": "code",
   "execution_count": 37,
   "id": "e0beafe4-ebea-40e1-8614-9c2d4b848159",
   "metadata": {},
   "outputs": [
    {
     "data": {
      "text/plain": [
       "(tensor([True, True, True,  ..., True, True, True]),\n",
       " tensor([1., 1., 1.,  ..., 1., 1., 1.]))"
      ]
     },
     "execution_count": 37,
     "metadata": {},
     "output_type": "execute_result"
    }
   ],
   "source": [
    "is_a_3(valid_3_tensors), is_a_3(valid_3_tensors).float()"
   ]
  },
  {
   "cell_type": "code",
   "execution_count": 38,
   "id": "4dbede34-833c-4ee7-9e8b-e113aa99186a",
   "metadata": {},
   "outputs": [
    {
     "data": {
      "text/plain": [
       "(tensor(0.9168), tensor(0.9854), tensor(0.9511))"
      ]
     },
     "execution_count": 38,
     "metadata": {},
     "output_type": "execute_result"
    }
   ],
   "source": [
    "accuracy_3 = is_a_3(valid_3_tensors).float().mean()\n",
    "accuracy_7 = (1 - is_a_3(valid_7_tensors).float()).mean()\n",
    "accuracy_3, accuracy_7, (accuracy_3 + accuracy_7) / 2"
   ]
  },
  {
   "cell_type": "markdown",
   "id": "eff87413-b9a4-4af9-ab65-5f97678825c4",
   "metadata": {},
   "source": [
    "## SGD"
   ]
  },
  {
   "cell_type": "code",
   "execution_count": 39,
   "id": "d84bc7da-1f4d-464f-8b2a-5a9818f2b07b",
   "metadata": {},
   "outputs": [
    {
     "data": {
      "text/plain": [
       "<matplotlib.collections.PathCollection at 0x296db4f70>"
      ]
     },
     "execution_count": 39,
     "metadata": {},
     "output_type": "execute_result"
    },
    {
     "data": {
      "image/png": "[encoded data removed]",
      "text/plain": [
       "<Figure size 600x400 with 1 Axes>"
      ]
     },
     "metadata": {},
     "output_type": "display_data"
    }
   ],
   "source": [
    "from fastbook import *\n",
    "\n",
    "def f(x):\n",
    "    return x**2\n",
    "\n",
    "plot_function(f, 'x', 'x**2')\n",
    "plt.scatter(-1.5, f(-1.5), color='red')"
   ]
  },
  {
   "cell_type": "code",
   "execution_count": 40,
   "id": "18188955-3456-4482-b2f2-7ca695d559fb",
   "metadata": {},
   "outputs": [
    {
     "data": {
      "text/plain": [
       "(tensor(3.), tensor(3., requires_grad=True))"
      ]
     },
     "execution_count": 40,
     "metadata": {},
     "output_type": "execute_result"
    }
   ],
   "source": [
    "xt_no_grad = tensor(3.)\n",
    "xt = tensor(3.).requires_grad_()\n",
    "xt_no_grad, xt"
   ]
  },
  {
   "cell_type": "code",
   "execution_count": 41,
   "id": "b63ca62c-9109-439f-9023-674d9e61a5c2",
   "metadata": {},
   "outputs": [
    {
     "data": {
      "text/plain": [
       "(tensor(9.), tensor(9., grad_fn=<PowBackward0>))"
      ]
     },
     "execution_count": 41,
     "metadata": {},
     "output_type": "execute_result"
    }
   ],
   "source": [
    "yt_no_grad = f(xt_no_grad)\n",
    "yt = f(xt)\n",
    "yt_no_grad, yt"
   ]
  },
  {
   "cell_type": "code",
   "execution_count": 42,
   "id": "e7634317-3c11-4bab-87e0-b8671683f68c",
   "metadata": {},
   "outputs": [],
   "source": [
    "yt.backward()"
   ]
  },
  {
   "cell_type": "code",
   "execution_count": 43,
   "id": "bf62f03a-2297-4e59-86ed-f67a38709f95",
   "metadata": {},
   "outputs": [
    {
     "data": {
      "text/plain": [
       "tensor(6.)"
      ]
     },
     "execution_count": 43,
     "metadata": {},
     "output_type": "execute_result"
    }
   ],
   "source": [
    "xt.grad"
   ]
  },
  {
   "cell_type": "markdown",
   "id": "22a49a97-20a0-4927-8d4a-a7d4aead380f",
   "metadata": {},
   "source": [
    "## Example"
   ]
  },
  {
   "cell_type": "code",
   "execution_count": 44,
   "id": "21f4d778-212f-491f-9be5-a711f57ac086",
   "metadata": {},
   "outputs": [
    {
     "data": {
      "text/plain": [
       "tensor([ 0.,  1.,  2.,  3.,  4.,  5.,  6.,  7.,  8.,  9., 10., 11., 12., 13., 14., 15., 16., 17., 18., 19.])"
      ]
     },
     "execution_count": 44,
     "metadata": {},
     "output_type": "execute_result"
    }
   ],
   "source": [
    "time = torch.arange(0,20).float()\n",
    "time"
   ]
  },
  {
   "cell_type": "code",
   "execution_count": 45,
   "id": "75771e2c-92e0-4cd1-a789-0717c97abdec",
   "metadata": {},
   "outputs": [
    {
     "data": {
      "text/plain": [
       "tensor([74.4682, 59.6494, 45.8897, 26.3709, 21.4131, 19.4225, 12.5899, 10.7294,  3.7551, -0.8724, -0.2926,  3.4120,  4.9926, 10.3128, 15.4328, 26.2671, 31.7583, 42.0004, 57.5977, 66.8227])"
      ]
     },
     "execution_count": 45,
     "metadata": {},
     "output_type": "execute_result"
    }
   ],
   "source": [
    "speed = torch.randn(20)*3 + 0.75*(time-9.5)**2 + 1\n",
    "speed"
   ]
  },
  {
   "cell_type": "code",
   "execution_count": 46,
   "id": "57abc139-a5a3-48d8-8f2e-15820710ca5c",
   "metadata": {},
   "outputs": [
    {
     "data": {
      "text/plain": [
       "<matplotlib.collections.PathCollection at 0x297177bb0>"
      ]
     },
     "execution_count": 46,
     "metadata": {},
     "output_type": "execute_result"
    },
    {
     "data": {
      "image/png": "[encoded data removed]",
      "text/plain": [
       "<Figure size 640x480 with 1 Axes>"
      ]
     },
     "metadata": {},
     "output_type": "display_data"
    }
   ],
   "source": [
    "plt.scatter(time, speed)"
   ]
  },
  {
   "cell_type": "code",
   "execution_count": 47,
   "id": "b3d06cb3-c4f1-414b-93f2-e15c715f749e",
   "metadata": {},
   "outputs": [],
   "source": [
    "def f(t, params):\n",
    "    a,b,c = params\n",
    "    return a*(t**2) + b*t + c"
   ]
  },
  {
   "cell_type": "code",
   "execution_count": 48,
   "id": "39478d1a-ca30-42dd-a323-dcdb89c94d1e",
   "metadata": {},
   "outputs": [],
   "source": [
    "def mse(preds, targets):\n",
    "    return ((preds - targets)**2).mean()"
   ]
  },
  {
   "cell_type": "code",
   "execution_count": 49,
   "id": "9493049d-227f-484e-ae6b-192b3750cf19",
   "metadata": {},
   "outputs": [
    {
     "data": {
      "text/plain": [
       "tensor([-0.7658, -0.7506,  1.3525], requires_grad=True)"
      ]
     },
     "execution_count": 49,
     "metadata": {},
     "output_type": "execute_result"
    }
   ],
   "source": [
    "# Initialize the params\n",
    "params = torch.randn(3).requires_grad_()\n",
    "params"
   ]
  },
  {
   "cell_type": "code",
   "execution_count": 50,
   "id": "30853043-5e4f-4336-9afc-5765f67c39fe",
   "metadata": {},
   "outputs": [
    {
     "data": {
      "text/plain": [
       "tensor([ 1.3525e+00, -1.6391e-01, -3.2121e+00, -7.7919e+00, -1.3903e+01, -2.1547e+01, -3.0721e+01, -4.1428e+01, -5.3666e+01, -6.7436e+01, -8.2738e+01, -9.9571e+01, -1.1794e+02, -1.3783e+02,\n",
       "        -1.5926e+02, -1.8222e+02, -2.0671e+02, -2.3274e+02, -2.6029e+02, -2.8938e+02], grad_fn=<AddBackward0>)"
      ]
     },
     "execution_count": 50,
     "metadata": {},
     "output_type": "execute_result"
    }
   ],
   "source": [
    "preds = f(time, params)\n",
    "preds"
   ]
  },
  {
   "cell_type": "code",
   "execution_count": 51,
   "id": "4c8bc7f5-8377-4d0e-8dc3-5768d352cff9",
   "metadata": {},
   "outputs": [
    {
     "data": {
      "image/png": "[encoded data removed]",
      "text/plain": [
       "<Figure size 640x480 with 1 Axes>"
      ]
     },
     "metadata": {},
     "output_type": "display_data"
    }
   ],
   "source": [
    "# Calculate predictions\n",
    "def show_preds(preds, ax=None):\n",
    "    if ax is None:\n",
    "        ax = plt.subplots()[1]\n",
    "    ax.scatter(time, speed)\n",
    "    ax.scatter(time, to_np(preds), color='red')\n",
    "    ax.set_ylim(-300, 100)\n",
    "\n",
    "show_preds(preds)"
   ]
  },
  {
   "cell_type": "code",
   "execution_count": 52,
   "id": "fca6414f-e241-440a-a660-66409b80551c",
   "metadata": {},
   "outputs": [
    {
     "data": {
      "text/plain": [
       "tensor(25823.8086, grad_fn=<MeanBackward0>)"
      ]
     },
     "execution_count": 52,
     "metadata": {},
     "output_type": "execute_result"
    }
   ],
   "source": [
    "# Calculate the loss\n",
    "loss = mse(preds, speed)\n",
    "loss"
   ]
  },
  {
   "cell_type": "code",
   "execution_count": 53,
   "id": "a17eea9f-6a64-4912-8f38-c668264f1462",
   "metadata": {},
   "outputs": [],
   "source": [
    "# Calculate the gradients\n",
    "loss.backward()"
   ]
  },
  {
   "cell_type": "code",
   "execution_count": 54,
   "id": "6e65dbb6-fea6-48cc-a91b-1cab3b825992",
   "metadata": {},
   "outputs": [
    {
     "data": {
      "text/plain": [
       "tensor([-0.5320, -0.0342, -0.0025])"
      ]
     },
     "execution_count": 54,
     "metadata": {},
     "output_type": "execute_result"
    }
   ],
   "source": [
    "# Add learning rate\n",
    "lr = 1e-5\n",
    "params.grad * lr"
   ]
  },
  {
   "cell_type": "code",
   "execution_count": 55,
   "id": "e05f1616-14c6-4492-a3cd-500789146a1c",
   "metadata": {},
   "outputs": [
    {
     "data": {
      "text/plain": [
       "(tensor([-0.7658, -0.7506,  1.3525]),\n",
       " tensor([-53195.8633,  -3419.7148,   -253.8908]))"
      ]
     },
     "execution_count": 55,
     "metadata": {},
     "output_type": "execute_result"
    }
   ],
   "source": [
    "params.data, params.grad.data"
   ]
  },
  {
   "cell_type": "code",
   "execution_count": 56,
   "id": "49d5cbae-8a78-4fce-aca6-d1437f1df9e5",
   "metadata": {},
   "outputs": [],
   "source": [
    "# Step the weights\n",
    "params.data -= lr * params.grad.data\n",
    "params.grad = None"
   ]
  },
  {
   "cell_type": "code",
   "execution_count": 57,
   "id": "fb727edc-9bd4-44f4-8254-e548ca2ca489",
   "metadata": {},
   "outputs": [
    {
     "data": {
      "text/plain": [
       "tensor(5435.5356, grad_fn=<MeanBackward0>)"
      ]
     },
     "execution_count": 57,
     "metadata": {},
     "output_type": "execute_result"
    }
   ],
   "source": [
    "preds = f(time, params)\n",
    "mse(preds, speed)"
   ]
  },
  {
   "cell_type": "code",
   "execution_count": 58,
   "id": "099c9f8d-7567-4ec8-a58e-5d2caecde29c",
   "metadata": {},
   "outputs": [
    {
     "data": {
      "image/png": "[encoded data removed]",
      "text/plain": [
       "<Figure size 640x480 with 1 Axes>"
      ]
     },
     "metadata": {},
     "output_type": "display_data"
    }
   ],
   "source": [
    "show_preds(preds)"
   ]
  },
  {
   "cell_type": "code",
   "execution_count": 79,
   "id": "4ab87005-a3d7-4697-a009-95dd75f9b80d",
   "metadata": {},
   "outputs": [
    {
     "data": {
      "image/png": "[encoded data removed]",
      "text/plain": [
       "<Figure size 640x480 with 1 Axes>"
      ]
     },
     "metadata": {},
     "output_type": "display_data"
    }
   ],
   "source": [
    "# Let's do it again\n",
    "loss = mse(preds,speed)\n",
    "loss.backward()\n",
    "params.data -= lr * params.grad.data\n",
    "params.grad = None\n",
    "preds = f(time, params)\n",
    "show_preds(preds)"
   ]
  },
  {
   "cell_type": "code",
   "execution_count": 80,
   "id": "fdaf9ca4-62b7-41c5-95a1-49a7ec30cd68",
   "metadata": {},
   "outputs": [],
   "source": [
    "def apply_step(params, prn=True):\n",
    "    preds = f(time, params)\n",
    "    loss = mse(preds, speed)\n",
    "    loss.backward()\n",
    "    params.data -= lr * params.grad.data\n",
    "    params.grad = None\n",
    "    if prn:\n",
    "        print(loss.item())\n",
    "    return preds"
   ]
  },
  {
   "cell_type": "code",
   "execution_count": 82,
   "id": "7316f8b5-e852-4b7e-8f50-8e6faf025823",
   "metadata": {},
   "outputs": [
    {
     "name": "stdout",
     "output_type": "stream",
     "text": [
      "676.85986328125\n",
      "676.8555297851562\n",
      "676.8511352539062\n",
      "676.8466796875\n",
      "676.84228515625\n",
      "676.8380126953125\n",
      "676.8336181640625\n",
      "676.8291015625\n",
      "676.8248291015625\n",
      "676.8203735351562\n"
     ]
    },
    {
     "data": {
      "image/png": "[encoded data removed]",
      "text/plain": [
       "<Figure size 1200x300 with 4 Axes>"
      ]
     },
     "metadata": {},
     "output_type": "display_data"
    }
   ],
   "source": [
    "for i in range(10):\n",
    "    apply_step(params)\n",
    "\n",
    "_,axs = plt.subplots(1, 4, figsize=(12,3))\n",
    "for ax in axs:\n",
    "    step = apply_step(params, False)\n",
    "    show_preds(step, ax)\n",
    "\n",
    "plt.tight_layout()"
   ]
  }
 ],
 "metadata": {
  "kernelspec": {
   "display_name": "Python 3 (ipykernel)",
   "language": "python",
   "name": "python3"
  },
  "language_info": {
   "codemirror_mode": {
    "name": "ipython",
    "version": 3
   },
   "file_extension": ".py",
   "mimetype": "text/x-python",
   "name": "python",
   "nbconvert_exporter": "python",
   "pygments_lexer": "ipython3",
   "version": "3.9.10"
  }
 },
 "nbformat": 4,
 "nbformat_minor": 5
}
